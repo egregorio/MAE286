{
 "cells": [
  {
   "cell_type": "code",
   "execution_count": 1,
   "metadata": {},
   "outputs": [],
   "source": [
    "import numpy\n",
    "from matplotlib import pyplot\n",
    "%matplotlib inline"
   ]
  },
  {
   "cell_type": "code",
   "execution_count": 3,
   "metadata": {},
   "outputs": [],
   "source": [
    "L = 1.0\n",
    "nx = 51\n",
    "dx = L / (nx - 1)\n",
    "alpha = 1.22e-3\n",
    "#flux at right boundry\n",
    "q = 0.0\n",
    "\n",
    "x = numpy.linspace(0.0, L, num=nx)\n",
    "\n",
    "T0 = numpy.zeros_like(x)\n",
    "T0[0] = 100.0"
   ]
  },
  {
   "cell_type": "code",
   "execution_count": 4,
   "metadata": {},
   "outputs": [],
   "source": [
    "#every timestep we need to solve a system of equations for this implicit scheme\n",
    "from scipy import linalg"
   ]
  },
  {
   "cell_type": "code",
   "execution_count": 8,
   "metadata": {},
   "outputs": [],
   "source": [
    "def lhs_operator(nx, sigma):\n",
    "    #create diagonal matrix\n",
    "    D = numpy.diag((2 + 1 / sigma) * numpy.ones(nx - 2)) #this sets the main diagonal to be 2 + 1 / sigma\n",
    "    D[-1, -1] = 1 + 1 / sigma #edits the value at the bottom left hand corner\n",
    "    U = numpy.diag(-1.0 * numpy.ones(nx - 3), k= 1) #k = 1 means it will be the diagonal above the main one\n",
    "    L = numpy.diag(-1.0 * numpy.ones(nx - 3), k=-1) #k =-1 means its setting the lower diagonal\n",
    "    A = D + U + L\n",
    "    return A"
   ]
  },
  {
   "cell_type": "code",
   "execution_count": 12,
   "metadata": {},
   "outputs": [],
   "source": [
    "def rhs_vector(T, sigma, q, dx):\n",
    "    b = T[1:-1] / sigma\n",
    "    b[0] += T[0]\n",
    "    b[-1] += q * dx\n",
    "    return b"
   ]
  },
  {
   "cell_type": "code",
   "execution_count": 13,
   "metadata": {},
   "outputs": [],
   "source": [
    "def btcs(T0, nt, dt, dx, alpha, q):\n",
    "    sigma = alpha * dt / dx**2\n",
    "    A = lhs_operator(nx, sigma)\n",
    "    T = T0.copy()\n",
    "    for n in range(nt):\n",
    "        b = rhs_vector(T, sigma, q, dx)\n",
    "        T[1:-1] = linalg.solve(A, b)\n",
    "        T[-1] = T[-2] + q * dx #neumann condition\n",
    "    return T"
   ]
  },
  {
   "cell_type": "code",
   "execution_count": 14,
   "metadata": {},
   "outputs": [
    {
     "data": {
      "text/plain": [
       "[<matplotlib.lines.Line2D at 0x110db0978>]"
      ]
     },
     "execution_count": 14,
     "metadata": {},
     "output_type": "execute_result"
    },
    {
     "data": {
      "image/png": "[encoded data removed]",
      "text/plain": [
       "<Figure size 432x288 with 1 Axes>"
      ]
     },
     "metadata": {},
     "output_type": "display_data"
    }
   ],
   "source": [
    "nt = 100\n",
    "sigma = 0.5\n",
    "dt = sigma * dx**2 / alpha\n",
    "\n",
    "T = btcs(T0, nt, dt, dx, alpha, q)\n",
    "\n",
    "pyplot.plot(x,T)"
   ]
  },
  {
   "cell_type": "code",
   "execution_count": 15,
   "metadata": {},
   "outputs": [
    {
     "data": {
      "text/plain": [
       "[<matplotlib.lines.Line2D at 0x110e9a978>]"
      ]
     },
     "execution_count": 15,
     "metadata": {},
     "output_type": "execute_result"
    },
    {
     "data": {
      "image/png": "[encoded data removed]",
      "text/plain": [
       "<Figure size 432x288 with 1 Axes>"
      ]
     },
     "metadata": {},
     "output_type": "display_data"
    }
   ],
   "source": [
    "%timeit\n",
    "nt = 1000\n",
    "sigma = 5.0\n",
    "dt = sigma *dx**2 / alpha\n",
    "T = btcs(T0,nt, dt, dx, alpha, q)\n",
    "pyplot.plot(x, T)"
   ]
  },
  {
   "cell_type": "code",
   "execution_count": 16,
   "metadata": {},
   "outputs": [],
   "source": [
    "# not we can use larger timestep sizes! but you have to be careful of how addiing more timesteps changes the solution"
   ]
  },
  {
   "cell_type": "code",
   "execution_count": null,
   "metadata": {},
   "outputs": [],
   "source": []
  }
 ],
 "metadata": {
  "kernelspec": {
   "display_name": "Python 3",
   "language": "python",
   "name": "python3"
  },
  "language_info": {
   "codemirror_mode": {
    "name": "ipython",
    "version": 3
   },
   "file_extension": ".py",
   "mimetype": "text/x-python",
   "name": "python",
   "nbconvert_exporter": "python",
   "pygments_lexer": "ipython3",
   "version": "3.6.5"
  }
 },
 "nbformat": 4,
 "nbformat_minor": 2
}
