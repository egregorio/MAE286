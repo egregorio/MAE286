{
 "cells": [
  {
   "cell_type": "code",
   "execution_count": 10,
   "metadata": {},
   "outputs": [],
   "source": [
    "import numpy\n",
    "from scipy import linalg\n",
    "from matplotlib import pyplot\n",
    "%matplotlib inline"
   ]
  },
  {
   "cell_type": "code",
   "execution_count": 11,
   "metadata": {},
   "outputs": [],
   "source": [
    "def btcs(T0, nt, dt, delta, alpha, Tb):\n",
    "    #delta, grid spacing in both directions\n",
    "    #Tb temp at boundry\n",
    "    ny, nx = T0.shape #first # of rows second # of columns\n",
    "    M, N = nx - 2, ny - 2\n",
    "    sigma = alpha * dt / delta**2\n",
    "    A = lhs_operator(M, N, sigma)\n",
    "    T = T0[1:-1, 1:-1].flatten()\n",
    "    I, J = int(M / 2), int(N / 2)\n",
    "    for n in range(nt):\n",
    "        b = rhs_vector(T, M, N, sigma, Tb)\n",
    "        T = linalg.solve(A, b)\n",
    "        if T[J * M + I] >= 70.0:\n",
    "            break\n",
    "    print('Time step {}; Temperature at the Center {} C'.format(n, T[J * M + 1]))\n",
    "    return map_1d_to_2d(T, nx, ny, Tb)"
   ]
  },
  {
   "cell_type": "code",
   "execution_count": 12,
   "metadata": {},
   "outputs": [],
   "source": [
    "def map_1d_to_2d(T1, nx, ny, Tb):\n",
    "    T = numpy.zeros((ny, nx))\n",
    "    T[1:-1, 1:-1] = T1.reshape((ny - 2, nx - 2))\n",
    "    T[:,0] = Tb\n",
    "    T[0,:] = Tb\n",
    "    T[:, -1] = T[:, -2]\n",
    "    T[-1, :] = T[-2, :]\n",
    "    return T"
   ]
  },
  {
   "cell_type": "code",
   "execution_count": 13,
   "metadata": {},
   "outputs": [],
   "source": [
    "def rhs_vector(T, M, N, sigma, Tb):\n",
    "    b = T / sigma\n",
    "    for j in range(N):\n",
    "        for i in range(M):\n",
    "            I = j * M + i\n",
    "            if i == 0:\n",
    "                b[I] += Tb\n",
    "            if j == 0:\n",
    "                b[I] += Tb\n",
    "    return b"
   ]
  },
  {
   "cell_type": "code",
   "execution_count": 14,
   "metadata": {},
   "outputs": [],
   "source": [
    "def lhs_operator(M, N, sigma):\n",
    "    A = numpy.zeros((M * N, M * N)) # (rows, columns)\n",
    "    for j in range(N):\n",
    "        for i in range(M):\n",
    "            I  = j * M + i # global index\n",
    "            IS = I - M #south point\n",
    "            IW = I - 1 #west  point\n",
    "            IE = I + 1 #east  point\n",
    "            IN = I + M #north point\n",
    "            if i == 0 and j == 0:\n",
    "                A[I, I]  = 1.0 / sigma + 4.0\n",
    "                A[I, IE] = -1.0\n",
    "                A[I, IN] = -1.0\n",
    "            elif i == 0 and j == -1:\n",
    "                A[I, I]  = 1.0 / sigma + 3.0\n",
    "                A[I, IS] = -1.0\n",
    "                A[I, IE] = -1.0\n",
    "            elif i == M - 1 and j ==0:\n",
    "                A[I, I]  = 1.0 / sigma + 3.0\n",
    "                A[I, IW] = -1.0\n",
    "                A[I, IN] = -1.0\n",
    "            elif i == M - 1 and j == N - 1:\n",
    "                A[I, I]  = 1.0 / sigma + 2.0\n",
    "                A[I, IW] = -1.0\n",
    "                A[I, IS] = -1.0\n",
    "            elif i == 0:\n",
    "                A[I, I]  = 1.0 / sigma + 4.0\n",
    "                A[I, IS] = -1.0\n",
    "                A[I, IE] = -1.0\n",
    "                A[I, IN] = -1.0\n",
    "            elif j == 0:\n",
    "                A[I, I]  = 1.0 / sigma + 4.0\n",
    "                A[I, IW] = -1.0\n",
    "                A[I, IE] = -1.0\n",
    "                A[I, IN] = -1.0\n",
    "            elif i == M - 1:\n",
    "                A[I, I]  = 1.0 / sigma + 3.0\n",
    "                A[I, IS] = -1.0\n",
    "                A[I, IW] = -1.0\n",
    "                A[I, IN] = -1.0\n",
    "            elif j == N - 1:\n",
    "                A[I, I]  = 1.0 / sigma + 3.0\n",
    "                A[I, IS] = -1.0\n",
    "                A[I, IW] = -1.0\n",
    "                A[I, IE] = -1.0\n",
    "            else:\n",
    "                A[I, I]  = 1.0 / sigma + 4.0\n",
    "                A[I, IS] = -1.0\n",
    "                A[I, IW] = -1.0\n",
    "                A[I, IE] = -1.0\n",
    "                A[I, IN] = -1.0\n",
    "    return A"
   ]
  },
  {
   "cell_type": "code",
   "execution_count": 15,
   "metadata": {},
   "outputs": [],
   "source": [
    "#parameters\n",
    "Lx = 0.01\n",
    "Ly = 0.01\n",
    "nx = 21\n",
    "ny = 21\n",
    "dx = Lx / (nx - 1)\n",
    "dy = Ly / (ny - 1)\n",
    "\n",
    "alpha = 1e-4\n",
    "\n",
    "#discretize domain\n",
    "x = numpy.linspace(0.0, Lx, num=nx)\n",
    "y = numpy.linspace(0.0, Ly, num=ny)\n",
    "\n",
    "#initial conditions\n",
    "# T is a 2d array with (y, x)\n",
    "#begin with all at 20C except the x = 0 and y = 0 is 100C\n",
    "T0 = 20.0 * numpy.ones((ny, nx))\n",
    "T0[0,:] = 100.0\n",
    "T0[:,0] = 100.0\n",
    "#print(T0)"
   ]
  },
  {
   "cell_type": "code",
   "execution_count": 16,
   "metadata": {},
   "outputs": [],
   "source": [
    "sigma = 0.5\n",
    "dt = sigma / (alpha * (1 / dx**2 + 1 / dy**2)) \n",
    "nt = 500"
   ]
  },
  {
   "cell_type": "code",
   "execution_count": 17,
   "metadata": {},
   "outputs": [
    {
     "ename": "IndexError",
     "evalue": "index 361 is out of bounds for axis 1 with size 361",
     "output_type": "error",
     "traceback": [
      "\u001b[0;31m---------------------------------------------------------------------------\u001b[0m",
      "\u001b[0;31mIndexError\u001b[0m                                Traceback (most recent call last)",
      "\u001b[0;32m<ipython-input-17-e99c921e267b>\u001b[0m in \u001b[0;36m<module>\u001b[0;34m()\u001b[0m\n\u001b[0;32m----> 1\u001b[0;31m \u001b[0mT\u001b[0m \u001b[0;34m=\u001b[0m \u001b[0mbtcs\u001b[0m\u001b[0;34m(\u001b[0m\u001b[0mT0\u001b[0m\u001b[0;34m,\u001b[0m \u001b[0mnt\u001b[0m\u001b[0;34m,\u001b[0m \u001b[0mdt\u001b[0m\u001b[0;34m,\u001b[0m \u001b[0mdx\u001b[0m\u001b[0;34m,\u001b[0m \u001b[0malpha\u001b[0m\u001b[0;34m,\u001b[0m \u001b[0;36m100.0\u001b[0m\u001b[0;34m)\u001b[0m\u001b[0;34m\u001b[0m\u001b[0m\n\u001b[0m",
      "\u001b[0;32m<ipython-input-11-38e707b8d691>\u001b[0m in \u001b[0;36mbtcs\u001b[0;34m(T0, nt, dt, delta, alpha, Tb)\u001b[0m\n\u001b[1;32m      5\u001b[0m     \u001b[0mM\u001b[0m\u001b[0;34m,\u001b[0m \u001b[0mN\u001b[0m \u001b[0;34m=\u001b[0m \u001b[0mnx\u001b[0m \u001b[0;34m-\u001b[0m \u001b[0;36m2\u001b[0m\u001b[0;34m,\u001b[0m \u001b[0mny\u001b[0m \u001b[0;34m-\u001b[0m \u001b[0;36m2\u001b[0m\u001b[0;34m\u001b[0m\u001b[0m\n\u001b[1;32m      6\u001b[0m     \u001b[0msigma\u001b[0m \u001b[0;34m=\u001b[0m \u001b[0malpha\u001b[0m \u001b[0;34m*\u001b[0m \u001b[0mdt\u001b[0m \u001b[0;34m/\u001b[0m \u001b[0mdelta\u001b[0m\u001b[0;34m**\u001b[0m\u001b[0;36m2\u001b[0m\u001b[0;34m\u001b[0m\u001b[0m\n\u001b[0;32m----> 7\u001b[0;31m     \u001b[0mA\u001b[0m \u001b[0;34m=\u001b[0m \u001b[0mlhs_operator\u001b[0m\u001b[0;34m(\u001b[0m\u001b[0mM\u001b[0m\u001b[0;34m,\u001b[0m \u001b[0mN\u001b[0m\u001b[0;34m,\u001b[0m \u001b[0msigma\u001b[0m\u001b[0;34m)\u001b[0m\u001b[0;34m\u001b[0m\u001b[0m\n\u001b[0m\u001b[1;32m      8\u001b[0m     \u001b[0mT\u001b[0m \u001b[0;34m=\u001b[0m \u001b[0mT0\u001b[0m\u001b[0;34m[\u001b[0m\u001b[0;36m1\u001b[0m\u001b[0;34m:\u001b[0m\u001b[0;34m-\u001b[0m\u001b[0;36m1\u001b[0m\u001b[0;34m,\u001b[0m \u001b[0;36m1\u001b[0m\u001b[0;34m:\u001b[0m\u001b[0;34m-\u001b[0m\u001b[0;36m1\u001b[0m\u001b[0;34m]\u001b[0m\u001b[0;34m.\u001b[0m\u001b[0mflatten\u001b[0m\u001b[0;34m(\u001b[0m\u001b[0;34m)\u001b[0m\u001b[0;34m\u001b[0m\u001b[0m\n\u001b[1;32m      9\u001b[0m     \u001b[0mI\u001b[0m\u001b[0;34m,\u001b[0m \u001b[0mJ\u001b[0m \u001b[0;34m=\u001b[0m \u001b[0mint\u001b[0m\u001b[0;34m(\u001b[0m\u001b[0mM\u001b[0m \u001b[0;34m/\u001b[0m \u001b[0;36m2\u001b[0m\u001b[0;34m)\u001b[0m\u001b[0;34m,\u001b[0m \u001b[0mint\u001b[0m\u001b[0;34m(\u001b[0m\u001b[0mN\u001b[0m \u001b[0;34m/\u001b[0m \u001b[0;36m2\u001b[0m\u001b[0;34m)\u001b[0m\u001b[0;34m\u001b[0m\u001b[0m\n",
      "\u001b[0;32m<ipython-input-14-48a6f3592e60>\u001b[0m in \u001b[0;36mlhs_operator\u001b[0;34m(M, N, sigma)\u001b[0m\n\u001b[1;32m     28\u001b[0m                 \u001b[0mA\u001b[0m\u001b[0;34m[\u001b[0m\u001b[0mI\u001b[0m\u001b[0;34m,\u001b[0m \u001b[0mIS\u001b[0m\u001b[0;34m]\u001b[0m \u001b[0;34m=\u001b[0m \u001b[0;34m-\u001b[0m\u001b[0;36m1.0\u001b[0m\u001b[0;34m\u001b[0m\u001b[0m\n\u001b[1;32m     29\u001b[0m                 \u001b[0mA\u001b[0m\u001b[0;34m[\u001b[0m\u001b[0mI\u001b[0m\u001b[0;34m,\u001b[0m \u001b[0mIE\u001b[0m\u001b[0;34m]\u001b[0m \u001b[0;34m=\u001b[0m \u001b[0;34m-\u001b[0m\u001b[0;36m1.0\u001b[0m\u001b[0;34m\u001b[0m\u001b[0m\n\u001b[0;32m---> 30\u001b[0;31m                 \u001b[0mA\u001b[0m\u001b[0;34m[\u001b[0m\u001b[0mI\u001b[0m\u001b[0;34m,\u001b[0m \u001b[0mIN\u001b[0m\u001b[0;34m]\u001b[0m \u001b[0;34m=\u001b[0m \u001b[0;34m-\u001b[0m\u001b[0;36m1.0\u001b[0m\u001b[0;34m\u001b[0m\u001b[0m\n\u001b[0m\u001b[1;32m     31\u001b[0m             \u001b[0;32melif\u001b[0m \u001b[0mj\u001b[0m \u001b[0;34m==\u001b[0m \u001b[0;36m0\u001b[0m\u001b[0;34m:\u001b[0m\u001b[0;34m\u001b[0m\u001b[0m\n\u001b[1;32m     32\u001b[0m                 \u001b[0mA\u001b[0m\u001b[0;34m[\u001b[0m\u001b[0mI\u001b[0m\u001b[0;34m,\u001b[0m \u001b[0mI\u001b[0m\u001b[0;34m]\u001b[0m  \u001b[0;34m=\u001b[0m \u001b[0;36m1.0\u001b[0m \u001b[0;34m/\u001b[0m \u001b[0msigma\u001b[0m \u001b[0;34m+\u001b[0m \u001b[0;36m4.0\u001b[0m\u001b[0;34m\u001b[0m\u001b[0m\n",
      "\u001b[0;31mIndexError\u001b[0m: index 361 is out of bounds for axis 1 with size 361"
     ]
    }
   ],
   "source": [
    "T = btcs(T0, nt, dt, dx, alpha, 100.0)"
   ]
  },
  {
   "cell_type": "code",
   "execution_count": null,
   "metadata": {},
   "outputs": [],
   "source": []
  }
 ],
 "metadata": {
  "kernelspec": {
   "display_name": "Python 3",
   "language": "python",
   "name": "python3"
  },
  "language_info": {
   "codemirror_mode": {
    "name": "ipython",
    "version": 3
   },
   "file_extension": ".py",
   "mimetype": "text/x-python",
   "name": "python",
   "nbconvert_exporter": "python",
   "pygments_lexer": "ipython3",
   "version": "3.6.5"
  }
 },
 "nbformat": 4,
 "nbformat_minor": 2
}
