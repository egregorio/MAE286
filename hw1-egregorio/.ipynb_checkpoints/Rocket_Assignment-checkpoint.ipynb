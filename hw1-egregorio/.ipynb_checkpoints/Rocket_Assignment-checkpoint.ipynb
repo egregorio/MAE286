{
 "cells": [
  {
   "cell_type": "markdown",
   "metadata": {},
   "source": [
    "Before you turn in this homework, make sure everything runs as expected. First, restart the kernel (in the menubar, select Kernel $\\rightarrow$ Restart) and then run all cells (in the menubar, select Cell $\\rightarrow$ Run All).\n",
    "\n",
    "Make sure you execute every single code cell, in order, filling with your solutions in any place that says `# YOUR CODE HERE`, and always DELETE the line that says:\n",
    "\n",
    "```python\n",
    "raise NotImplementedError()\n",
    "```\n",
    "\n",
    "The purpose of this line is to tell you if you forgot to answer a question (it will throw an error if the line is there)\n",
    "\n",
    "**IMPORTANT:** DO NOT DELETE ANY CELL and do not change the title of the Notebook.\n",
    "\n",
    "Fill your name below:"
   ]
  },
  {
   "cell_type": "code",
   "execution_count": 1,
   "metadata": {},
   "outputs": [],
   "source": [
    "name = \"Elizabeth Gregorio\""
   ]
  },
  {
   "cell_type": "markdown",
   "metadata": {
    "deletable": false,
    "editable": false,
    "nbgrader": {
     "checksum": "3601caf696570f4d526f01df84aae2b8",
     "grade": false,
     "grade_id": "title",
     "locked": true,
     "schema_version": 1,
     "solution": false
    }
   },
   "source": [
    "# Coding Assignment: Rocket"
   ]
  },
  {
   "cell_type": "markdown",
   "metadata": {
    "deletable": false,
    "editable": false,
    "nbgrader": {
     "checksum": "40534a63f3bf4ee3ee73a6a0557ccc69",
     "grade": false,
     "grade_id": "rocket-introduction",
     "locked": true,
     "schema_version": 1,
     "solution": false
    }
   },
   "source": [
    "The equations of motion for a rocket in purely vertical flight are given by\n",
    "\n",
    "$$\n",
    "\\begin{align}\n",
    "\\frac{dh}{dt} &= v\\\\\n",
    "(m_s+m_p) \\frac{dv}{dt}& = -(m_s+m_p)g + \\dot{m}_pv_e - \\frac{1}{2}\\rho v|v|AC_D\n",
    "\\end{align}\n",
    "$$\n",
    "\n",
    "$h$ is the altitude of the rocket\n",
    "\n",
    "$m_s = 50kg$ is the weight of the rocket shell\n",
    "\n",
    "$g = 9.81 \\frac{m}{s^2}$\n",
    "\n",
    "$\\rho = 1.091 \\frac{kg}{m^3}$ is the average air density (assumed constant throughout flight)\n",
    "\n",
    "$A = \\pi r^2$ is the maximum cross sectional area of the rocket, where $r = 0.5 m$\n",
    "\n",
    "$v_e = 325 \\frac{m}{s}$ is the exhaust speed\n",
    "\n",
    "$C_D = 0.15 $ is the drag coefficient\n",
    "\n",
    "$m_{po} = 100 kg$ at time $t = 0$ is the initial weight of the rocket propellant\n",
    "\n",
    "The mass of the remaining propellant is given by:\n",
    "\n",
    "$$m_p = m_{po} - \\int^t_0 \\dot{m}_p d\\tau$$\n",
    "\n",
    "where $\\dot{m}_p$ is the time-varying burn rate given by the following figure:\n",
    "\n",
    "Propellant Burn Rate\n",
    "\n",
    "![burn rate](./figures/burn_rate.png)\n",
    "\n",
    "that is,\n",
    "\n",
    "$$\n",
    "\\begin{equation}\n",
    "    \\dot{m}_p \\left( t \\right) =\n",
    "    \\begin{cases}\n",
    "        20 & \\quad \\text{if} \\quad t < 5 \\\\\n",
    "        0 & \\quad \\text{otherwise}\n",
    "    \\end{cases}\n",
    "\\end{equation}\n",
    "$$\n",
    "\n",
    "Using Euler's method with a time-step size of $\\Delta t=0.1s$, create a Python script to calculate the altitude and velocity of the rocket from launch until crash down."
   ]
  },
  {
   "cell_type": "markdown",
   "metadata": {},
   "source": [
    "---"
   ]
  },
  {
   "cell_type": "markdown",
   "metadata": {
    "deletable": false,
    "editable": false,
    "nbgrader": {
     "checksum": "3817d647226de8f73390ed2a7500f2c3",
     "grade": false,
     "grade_id": "solution-section",
     "locked": true,
     "schema_version": 1,
     "solution": false
    }
   },
   "source": [
    "## Implement your solution"
   ]
  },
  {
   "cell_type": "markdown",
   "metadata": {
    "deletable": false,
    "editable": false,
    "nbgrader": {
     "checksum": "30f0f6ac504c41b65b165ab5e124a1e3",
     "grade": false,
     "grade_id": "solution-instructions",
     "locked": true,
     "schema_version": 1,
     "solution": false
    }
   },
   "source": [
    "Implement your solution in this section.\n",
    "You can use as many code cells as you want."
   ]
  },
  {
   "cell_type": "code",
   "execution_count": 291,
   "metadata": {
    "deletable": false,
    "nbgrader": {
     "checksum": "5f165c4f1bf69571a89fe7eb933b3f30",
     "grade": false,
     "grade_id": "student-imports",
     "locked": false,
     "schema_version": 1,
     "solution": true
    }
   },
   "outputs": [],
   "source": [
    "# Import libraries.\n",
    "import math\n",
    "import numpy\n",
    "from matplotlib import pyplot\n",
    "from sympy import Symbol, solve\n",
    "%matplotlib inline"
   ]
  },
  {
   "cell_type": "code",
   "execution_count": 325,
   "metadata": {},
   "outputs": [],
   "source": [
    "# Parameters\n",
    "ms = 50.0              #mass of rocket shell\n",
    "g = 9.81               #gravity\n",
    "rho = 1.091            #density\n",
    "A = numpy.pi * 0.5**2  #surface area\n",
    "ve = 325.0             #exhaust velocity\n",
    "CD = 0.15              #drag coefficient\n",
    "\n",
    "#time and timestep definitions\n",
    "T = 40.0               #length of time interval\n",
    "dt = 0.1               #size of the time steps\n",
    "N = int(T/dt) + 1      #number of time steps\n",
    "\n",
    "#mass of propellant calculations\n",
    "mpo = 100.0            #initial mass of propellant\n",
    "def mpf(mpo,N,dt):     #determining how much mass is left at each timestep\n",
    "    t = N*dt\n",
    "    if (t < 5.0):\n",
    "        mp = mpo - 20.0*t\n",
    "    else:\n",
    "        mp = 0.0\n",
    "    return mp\n",
    "\n",
    "def mass_p(mpo,N,dt):\n",
    "    t = N*dt\n",
    "    if (t < 5.0):\n",
    "        mp = 20.0\n",
    "    else:\n",
    "        mp = 0.0\n",
    "    return mp\n",
    "\n",
    "#initial conditions\n",
    "t0 = 0.0               #start time\n",
    "h0 = 0.0               #beginning height\n",
    "v0 = 0.0               #initial velocity\n",
    "a0 = 3.35              #initial acceleration"
   ]
  },
  {
   "cell_type": "code",
   "execution_count": 294,
   "metadata": {
    "deletable": false,
    "nbgrader": {
     "checksum": "27d590ee670b29fb56a473f714c0e722",
     "grade": false,
     "grade_id": "student-solution",
     "locked": false,
     "schema_version": 1,
     "solution": true
    }
   },
   "outputs": [],
   "source": [
    "def rhs_rocket(u, g, CD, A, ms, mpf, rho, ve, N, dt):\n",
    "    h, v = u\n",
    "    rhs = numpy.array([v,\n",
    "                      -g + (1/(ms+mpf(mpo,N,dt)))*(mass_p(mpo,N,dt)*ve \n",
    "                                                   - (1/2)*rho*v*numpy.absolute(v)*A*CD)])\n",
    "    return rhs"
   ]
  },
  {
   "cell_type": "code",
   "execution_count": 295,
   "metadata": {
    "scrolled": true
   },
   "outputs": [],
   "source": [
    "u = numpy.empty((N,2))       #array that will store the solution at each time step\n",
    "u[0] = numpy.array([h0, v0]) #initial conditions\n",
    "\n",
    "\n",
    "def euler_step(u,f,dt,*args):\n",
    "    u_new = u + dt * f(u, *args)\n",
    "    return u_new\n",
    "\n",
    "for n in range(N-1):         #integrate over time with euler\n",
    "        u[n + 1] = euler_step(u[n], rhs_rocket, dt, g, CD, A, ms, mpf, rho, ve, n, dt) "
   ]
  },
  {
   "cell_type": "code",
   "execution_count": 333,
   "metadata": {},
   "outputs": [],
   "source": [
    "hlist = u[:, 0]\n",
    "vlist = u[:, 1]"
   ]
  },
  {
   "cell_type": "code",
   "execution_count": 297,
   "metadata": {},
   "outputs": [
    {
     "data": {
      "image/png": "[encoded data removed]",
      "text/plain": [
       "<Figure size 648x288 with 1 Axes>"
      ]
     },
     "metadata": {},
     "output_type": "display_data"
    }
   ],
   "source": [
    "#plot of the aircraft's position over time\n",
    "pyplot.figure(figsize=(9.0,4.0))\n",
    "pyplot.title('Path of the Rocket (flight time = {})'.format(T))\n",
    "pyplot.xlabel('time steps')\n",
    "pyplot.ylabel('h')\n",
    "pyplot.grid()\n",
    "pyplot.plot(h, color='C0', linestyle='-', linewidth=2);"
   ]
  },
  {
   "cell_type": "markdown",
   "metadata": {},
   "source": [
    "---"
   ]
  },
  {
   "cell_type": "markdown",
   "metadata": {
    "deletable": false,
    "editable": false,
    "nbgrader": {
     "checksum": "aedbf96b54ed3a6c60bcf728f6045007",
     "grade": false,
     "grade_id": "assessment-section",
     "locked": true,
     "schema_version": 1,
     "solution": false
    }
   },
   "source": [
    "## Assessment"
   ]
  },
  {
   "cell_type": "code",
   "execution_count": 298,
   "metadata": {
    "deletable": false,
    "editable": false,
    "nbgrader": {
     "checksum": "5f26936e4e48f4269de0e6d911805788",
     "grade": false,
     "grade_id": "import-mooc",
     "locked": true,
     "schema_version": 1,
     "solution": false
    }
   },
   "outputs": [],
   "source": [
    "# Import module to check answers.\n",
    "import mooc"
   ]
  },
  {
   "cell_type": "markdown",
   "metadata": {
    "deletable": false,
    "editable": false,
    "nbgrader": {
     "checksum": "50927b0543e998c48b34a3a4e6bdd62b",
     "grade": false,
     "grade_id": "assessment-instructions",
     "locked": true,
     "schema_version": 1,
     "solution": false
    }
   },
   "source": [
    "Answer questions in this section."
   ]
  },
  {
   "cell_type": "markdown",
   "metadata": {
    "deletable": false,
    "editable": false,
    "nbgrader": {
     "checksum": "8f0cf8e3815f90d2d612f598b1e88d2c",
     "grade": false,
     "grade_id": "question-1",
     "locked": true,
     "schema_version": 1,
     "solution": false
    }
   },
   "source": [
    "1. At time $t=3.2s$, what is the mass (in kg) of rocket propellant remaining in the rocket? \n",
    "\n",
    "_Instructions:_\n",
    "\n",
    "* Store the value of the remaining propellant using a variable called `m_p`.\n",
    "You can call the function `mooc.check('hw1_answer1', m_p)` to check you got the correct answer. The function will print `'Good job!'` if you got it right, `'Try again!'` otherwise."
   ]
  },
  {
   "cell_type": "code",
   "execution_count": 320,
   "metadata": {
    "deletable": false,
    "nbgrader": {
     "checksum": "8377f92022b9e65f04fdc7452b81f80b",
     "grade": false,
     "grade_id": "propellant",
     "locked": false,
     "schema_version": 1,
     "solution": true
    }
   },
   "outputs": [
    {
     "name": "stdout",
     "output_type": "stream",
     "text": [
      "m_p =  36.0\n",
      "[hw1_answer1] Good job!\n"
     ]
    }
   ],
   "source": [
    "#for t=3.2s the N is 33\n",
    "T = 3.2\n",
    "mpo = 100.0\n",
    "\n",
    "#m_p = mpo - (mp * T)\n",
    "\n",
    "def mp(mpo,T):\n",
    "    if (T <= 5.0):\n",
    "        mp = mpo - 20.0*T\n",
    "    else:\n",
    "        mp = 0.0\n",
    "    return mp\n",
    "\n",
    "m_p = mpf(mpo,T)\n",
    "\n",
    "print('m_p = ', m_p)\n",
    "mooc.check('hw1_answer1', m_p)"
   ]
  },
  {
   "cell_type": "code",
   "execution_count": null,
   "metadata": {
    "deletable": false,
    "editable": false,
    "nbgrader": {
     "checksum": "831f4a886f65dadcaa7e5ad399a9e8c3",
     "grade": true,
     "grade_id": "propellant-checks",
     "locked": true,
     "points": 10,
     "schema_version": 1,
     "solution": false
    }
   },
   "outputs": [],
   "source": []
  },
  {
   "cell_type": "markdown",
   "metadata": {
    "deletable": false,
    "editable": false,
    "nbgrader": {
     "checksum": "f79234a21d625e23ceb24af638c8f796",
     "grade": false,
     "grade_id": "question-2",
     "locked": true,
     "schema_version": 1,
     "solution": false
    }
   },
   "source": [
    "2. What is the maximum speed of the rocket in $\\frac{m}{s}$? At what time does this occur (in seconds)? What is the altitude at this time (in meters)?\n",
    "\n",
    "_Instructions:_\n",
    "\n",
    "* Store the maximum speed in the variable `vmax`, check your answer with `mooc.check('hw1_answer2', vmax)`.\n",
    "* Store the time in `t_vmax`, check your answer with `mooc.check('hw1_answer3', t_vmax)`.\n",
    "* Store the altitude in the variable `h_vmax`, check your answer with `mooc.check('hw1_answer4', h_vmax)`."
   ]
  },
  {
   "cell_type": "markdown",
   "metadata": {},
   "source": [
    "I can find the maximum height and velocity by searching for the maximum in each of the columns. Therefore in the output from this cell the first item of the output array will be the maximum height and the second will be the maximum velocity."
   ]
  },
  {
   "cell_type": "code",
   "execution_count": 321,
   "metadata": {
    "deletable": false,
    "nbgrader": {
     "checksum": "0eff12db008af86a36ac5a9459902185",
     "grade": false,
     "grade_id": "max-speed",
     "locked": false,
     "schema_version": 1,
     "solution": true
    },
    "scrolled": false
   },
   "outputs": [
    {
     "name": "stdout",
     "output_type": "stream",
     "text": [
      "vmax = 232.1061334126179\n",
      "[hw1_answer2] Good job!\n"
     ]
    }
   ],
   "source": [
    "r = numpy.amax(u, axis = 0)\n",
    "vmax = r[1]\n",
    "print('vmax =', vmax)\n",
    "mooc.check('hw1_answer2', vmax)"
   ]
  },
  {
   "cell_type": "code",
   "execution_count": 322,
   "metadata": {
    "nbgrader": {
     "checksum": "27d590ee670b29fb56a473f714c0e722",
     "grade": false,
     "grade_id": "student-solution",
     "locked": false,
     "schema_version": 1,
     "solution": true
    }
   },
   "outputs": [
    {
     "name": "stdout",
     "output_type": "stream",
     "text": [
      "index of vmax =  (array([50]),)\n"
     ]
    }
   ],
   "source": [
    "index_of_vmax = numpy.where(vlist == vmax)\n",
    "print('index of vmax = ', index_of_vmax)"
   ]
  },
  {
   "cell_type": "code",
   "execution_count": 323,
   "metadata": {},
   "outputs": [
    {
     "name": "stdout",
     "output_type": "stream",
     "text": [
      "t_vmax =  5.0\n",
      "[hw1_answer3] Good job!\n"
     ]
    }
   ],
   "source": [
    "N_at_vmax = 50\n",
    "t_vmax = N_at_vmax * dt\n",
    "print('t_vmax = ', t_vmax)\n",
    "mooc.check('hw1_answer3', t_vmax)"
   ]
  },
  {
   "cell_type": "code",
   "execution_count": 330,
   "metadata": {},
   "outputs": [
    {
     "name": "stdout",
     "output_type": "stream",
     "text": [
      "h_vmax =  [523.52283429]\n",
      "[hw1_answer4] Good job!\n"
     ]
    }
   ],
   "source": [
    "h_vmax = hlist[index_of_vmax]\n",
    "print('h_vmax = ', h_vmax)\n",
    "mooc.check('hw1_answer4', h_vmax)"
   ]
  },
  {
   "cell_type": "code",
   "execution_count": null,
   "metadata": {
    "deletable": false,
    "editable": false,
    "nbgrader": {
     "checksum": "ca9d2e1113d82dfd9db72091e4eb0c1d",
     "grade": true,
     "grade_id": "max-speed-checks",
     "locked": true,
     "points": 30,
     "schema_version": 1,
     "solution": false
    }
   },
   "outputs": [],
   "source": []
  },
  {
   "cell_type": "markdown",
   "metadata": {
    "deletable": false,
    "editable": false,
    "nbgrader": {
     "checksum": "6c621351ba97b5ebcc437dbc70c8fbc2",
     "grade": false,
     "grade_id": "question-3",
     "locked": true,
     "schema_version": 1,
     "solution": false
    }
   },
   "source": [
    "3. What is the rocket's maximum altitude during flight (in meters)? At what time (in seconds) does this occur?\n",
    "\n",
    "_Instructions:_\n",
    "\n",
    "* Store the maximum altitude in the variable `hmax`, check your answer with `mooc.check('hw1_answer5', hmax)`.\n",
    "* Store the time in the variable `t_hmax`, check your answer with `mooc.check('hw1_answer6', t_hmax)`."
   ]
  },
  {
   "cell_type": "code",
   "execution_count": 288,
   "metadata": {
    "deletable": false,
    "nbgrader": {
     "checksum": "b769834d102e33bf1534bb3c39fbc0c8",
     "grade": false,
     "grade_id": "max-altitude",
     "locked": false,
     "schema_version": 1,
     "solution": true
    }
   },
   "outputs": [
    {
     "name": "stdout",
     "output_type": "stream",
     "text": [
      "hmax =  1334.1829454303067\n",
      "[hw1_answer5] Good job!\n"
     ]
    }
   ],
   "source": [
    "hmax = r[0]\n",
    "print('hmax = ', hmax)\n",
    "mooc.check('hw1_answer5',hmax)"
   ]
  },
  {
   "cell_type": "code",
   "execution_count": 311,
   "metadata": {},
   "outputs": [
    {
     "name": "stdout",
     "output_type": "stream",
     "text": [
      "index of hmax =  (array([157]),)\n"
     ]
    }
   ],
   "source": [
    "index_of_hmax = numpy.where(hlist == hmax)\n",
    "print('index of hmax = ', index_of_hmax)"
   ]
  },
  {
   "cell_type": "code",
   "execution_count": 312,
   "metadata": {},
   "outputs": [
    {
     "name": "stdout",
     "output_type": "stream",
     "text": [
      "t_hmax =  15.700000000000001\n",
      "[hw1_answer6] Good job!\n"
     ]
    }
   ],
   "source": [
    "N_at_hmax = 157\n",
    "t_hmax = N_at_hmax * dt\n",
    "print('t_hmax = ', t_hmax)\n",
    "mooc.check('hw1_answer6', t_hmax)"
   ]
  },
  {
   "cell_type": "code",
   "execution_count": null,
   "metadata": {
    "deletable": false,
    "editable": false,
    "nbgrader": {
     "checksum": "c2eb92d96bbab65a8c4522fc1b13cf2f",
     "grade": true,
     "grade_id": "max-altitude-checks",
     "locked": true,
     "points": 20,
     "schema_version": 1,
     "solution": false
    }
   },
   "outputs": [],
   "source": []
  },
  {
   "cell_type": "markdown",
   "metadata": {
    "deletable": false,
    "editable": false,
    "nbgrader": {
     "checksum": "7edf4d8878e3717b579099937e242cea",
     "grade": false,
     "grade_id": "question-4",
     "locked": true,
     "schema_version": 1,
     "solution": false
    }
   },
   "source": [
    "4. At what time (in seconds) does the rocket impact the ground? What is the velocity of the rocket (in $\\frac{m}{s}$) at time of impact?\n",
    "\n",
    "_Instructions:_\n",
    "\n",
    "* Store the time of impact in the variable `t_impact`, check your answer with `mooc.check('hw1_answer7', t_impact)`.\n",
    "* Store the impact velocity in the variable `v_impact`, check your answer with `mooc.check('hw1_answer8', v_impace)`."
   ]
  },
  {
   "cell_type": "code",
   "execution_count": 346,
   "metadata": {
    "deletable": false,
    "nbgrader": {
     "checksum": "1eba55fe393b33dac22f368b27d7b9a5",
     "grade": false,
     "grade_id": "impact",
     "locked": false,
     "schema_version": 1,
     "solution": true
    }
   },
   "outputs": [
    {
     "data": {
      "text/plain": [
       "array([371, 372, 373, 374, 375, 376, 377, 378, 379, 380, 381, 382, 383,\n",
       "       384, 385, 386, 387, 388, 389, 390, 391, 392, 393, 394, 395, 396,\n",
       "       397, 398, 399, 400])"
      ]
     },
     "execution_count": 346,
     "metadata": {},
     "output_type": "execute_result"
    }
   ],
   "source": [
    "numpy.where(hlist < 0)[0]"
   ]
  },
  {
   "cell_type": "code",
   "execution_count": 352,
   "metadata": {},
   "outputs": [],
   "source": [
    "N_beforeImpact = 370\n",
    "N_afterImpact = 371\n",
    "h_beforeImpact = hlist[370]\n",
    "h_afterImpact = hlist[371]\n",
    "v_beforeImpact = vlist[370]\n",
    "v_afterImpact = vlist[371] "
   ]
  },
  {
   "cell_type": "code",
   "execution_count": 354,
   "metadata": {},
   "outputs": [
    {
     "name": "stdout",
     "output_type": "stream",
     "text": [
      "t_impact =  37.071403836183485\n",
      "[hw1_answer7] Good job!\n"
     ]
    }
   ],
   "source": [
    "m = (N_beforeImpact - N_afterImpact)/(h_beforeImpact - h_afterImpact)\n",
    "N_impact = N_beforeImpact + (0 - h_beforeImpact) * m\n",
    "t_impact = N_impact * dt\n",
    "print('t_impact = ', t_impact)\n",
    "mooc.check('hw1_answer7', t_impact)"
   ]
  },
  {
   "cell_type": "code",
   "execution_count": 355,
   "metadata": {},
   "outputs": [
    {
     "name": "stdout",
     "output_type": "stream",
     "text": [
      "v_impact =  -85.99799262002382\n",
      "[hw1_answer8] Try again!\n"
     ]
    }
   ],
   "source": [
    "m = (v_beforeImpact - v_afterImpact)/(h_beforeImpact - h_afterImpact)\n",
    "v_impact = v_beforeImpact + (0 - h_beforeImpact) * m\n",
    "print('v_impact = ', v_impact)\n",
    "mooc.check('hw1_answer8', v_impact)"
   ]
  },
  {
   "cell_type": "code",
   "execution_count": null,
   "metadata": {
    "deletable": false,
    "editable": false,
    "nbgrader": {
     "checksum": "1d533033ed6dfbe2163b7f42fb6f1bfc",
     "grade": true,
     "grade_id": "impact-checks",
     "locked": true,
     "points": 20,
     "schema_version": 1,
     "solution": false
    }
   },
   "outputs": [],
   "source": []
  },
  {
   "cell_type": "markdown",
   "metadata": {},
   "source": [
    "---"
   ]
  },
  {
   "cell_type": "markdown",
   "metadata": {
    "deletable": false,
    "editable": false,
    "nbgrader": {
     "checksum": "1809d1d179785a34af384cc5102dd919",
     "grade": false,
     "grade_id": "derivation-section",
     "locked": true,
     "schema_version": 1,
     "solution": false
    }
   },
   "source": [
    "## Derivation of the rocket equations"
   ]
  },
  {
   "cell_type": "markdown",
   "metadata": {
    "deletable": false,
    "editable": false,
    "nbgrader": {
     "checksum": "eebff772a919507ed02f3702d7fc1358",
     "grade": false,
     "grade_id": "derivation",
     "locked": true,
     "schema_version": 1,
     "solution": false
    }
   },
   "source": [
    "In case you are kind of confused about the rocket equations, here we show how to get to them. \n",
    "\n",
    "Newton's second law states that the acceleration of the vehicle times its mass is equal to all the forces acting on it. Therefore,\n",
    "\n",
    "\\begin{equation}\n",
    "(m_s + m_p)\\frac{d\\bf{v}}{dt}=\\sum {\\bf F}.\n",
    "\\end{equation}\n",
    "In the above formula we have assumed that the propellant inside the rocket and the rocket move at the same velocity (in other words, their relative velocity is negligible). \n",
    "\n",
    "Two of the external forces acting on the rocket are,\n",
    "\n",
    "\\begin{align}\n",
    "{\\bf F}_g&= (m_s+m_p)\\bf{g} \\quad (\\rm{Gravity}),\\\\\n",
    "{\\bf F}_d&= - \\frac{1}{2} \\rho_a \\mathbf{v} |\\mathbf{v}| A  C_D \\quad (\\rm{Drag}).\n",
    "\\end{align}\n",
    "\n",
    "We also need to consider the force resulting from the ejection of the propellant. During an interval $dt$, the engine of the rocket ejects downwards a mass of propellant given by $\\dot m_p dt$. Relative to the rocket, the speed of the ejected burning gas is assumed constant and equal to $v_e$ (the exhaust speed). The momentum variation induced on the exhaust gas by the engine during that interval is therefore, $d{\\bf p}_{gas} = \\dot m_p {\\bf v}_e dt$. Again using Newton's second law we conclude that the force applied by the rocket on the gas is,\n",
    "\n",
    "\\begin{align}\n",
    "{\\bf F}_{rocket\\rightarrow gas} = \\frac{d{\\bf p}_{gas}}{dt} = \\dot m_p {\\bf v}_e\n",
    "\\end{align}\n",
    "\n",
    "Using Newton's third law (|action| = |reaction|), the force exerted by the exhaust gas on the rocket is then,\n",
    "\n",
    "\\begin{align}\n",
    "{\\bf F}_{gas\\rightarrow rocket} = -{\\bf F}_{rocket\\rightarrow gas} = -\\dot m_p {\\bf v}_e\n",
    "\\end{align}\n",
    "\n",
    "If we collect all the forces acting on the rocket we finally have:\n",
    "\n",
    "\\begin{align}\n",
    "(m_s + m_p)\\frac{d\\bf{v}}{dt}=(m_s+m_p){\\bf g}- \\frac{1}{2} \\rho_a \\mathbf{v} |v| A  C_D -\\dot m_p {\\bf v}_e\n",
    "\\end{align}\n",
    "\n"
   ]
  },
  {
   "cell_type": "markdown",
   "metadata": {},
   "source": [
    "---\n",
    "\n",
    "###### The cell below loads the style of the notebook."
   ]
  },
  {
   "cell_type": "code",
   "execution_count": null,
   "metadata": {
    "deletable": false,
    "editable": false,
    "nbgrader": {
     "checksum": "c6302010fe7a9b827466a71d4c7ab87b",
     "grade": false,
     "grade_id": "load-style",
     "locked": true,
     "schema_version": 1,
     "solution": false
    }
   },
   "outputs": [],
   "source": [
    "from IPython.core.display import HTML\n",
    "css_file = './styles/numericalmoocstyle.css'\n",
    "HTML(open(css_file, 'r').read())"
   ]
  }
 ],
 "metadata": {
  "kernelspec": {
   "display_name": "Python 3",
   "language": "python",
   "name": "python3"
  },
  "language_info": {
   "codemirror_mode": {
    "name": "ipython",
    "version": 3
   },
   "file_extension": ".py",
   "mimetype": "text/x-python",
   "name": "python",
   "nbconvert_exporter": "python",
   "pygments_lexer": "ipython3",
   "version": "3.6.5"
  }
 },
 "nbformat": 4,
 "nbformat_minor": 1
}
