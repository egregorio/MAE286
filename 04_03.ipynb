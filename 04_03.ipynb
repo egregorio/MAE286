{
 "cells": [
  {
   "cell_type": "code",
   "execution_count": 1,
   "metadata": {},
   "outputs": [],
   "source": [
    "import numpy\n",
    "from matplotlib import pyplot\n",
    "%matplotlib inline"
   ]
  },
  {
   "cell_type": "code",
   "execution_count": 12,
   "metadata": {},
   "outputs": [],
   "source": [
    "#parameters\n",
    "Lx = 0.01\n",
    "Ly = 0.01\n",
    "nx = 21\n",
    "ny = 21\n",
    "dx = Lx / (nx - 1)\n",
    "dy = Ly / (ny - 1)\n",
    "\n",
    "alpha = 1e-4\n",
    "\n",
    "#discretize domain\n",
    "x = numpy.linspace(0.0, Lx, num=nx)\n",
    "y = numpy.linspace(0.0, Ly, num=ny)\n",
    "\n",
    "#initial conditions\n",
    "# T is a 2d array with (y, x)\n",
    "#begin with all at 20C except the x = 0 and y = 0 is 100C\n",
    "T0 = 20.0 * numpy.ones((ny, nx))\n",
    "T0[0,:] = 100.0\n",
    "T0[:,0] = 100.0\n",
    "#print(T0)"
   ]
  },
  {
   "cell_type": "code",
   "execution_count": 27,
   "metadata": {},
   "outputs": [],
   "source": [
    "def ftcs (T0, nt, dt, dx, dy, alpha):\n",
    "    T = T0.copy()\n",
    "    sigma_x = alpha * dt / dx**2\n",
    "    sigma_y = alpha * dt / dy**2\n",
    "    #calculate center indices\n",
    "    I = int(nx / 2)\n",
    "    J = int(ny / 2)\n",
    "    for n in range(nt):\n",
    "        for j in range(1, ny - 1):\n",
    "            for i in range(1, nx - 1):\n",
    "                T[j, i] = (T[j, i] + \n",
    "                           sigma_x * (T[j, i-1] - 2*T[j,i] + T[j, i+1]) +\n",
    "                           sigma_y * (T[j-1, i] - 2*T[j,i] + T[j+1, i]))\n",
    "        T[0,:] = 100.0    #bottom B.C.\n",
    "        T[:,0] = 100.0    # left  B.C.\n",
    "        T[-1,:] = T[-2,:] # top   B.C.\n",
    "        T[:,-1] = T[:,-2] # right B.C.\n",
    "        if T[J, I] >= 70.0:\n",
    "            break\n",
    "    print('Time step {}; Temperature at center is {} C'.format(n, T[J,I]))\n",
    "    return T"
   ]
  },
  {
   "cell_type": "code",
   "execution_count": 28,
   "metadata": {},
   "outputs": [],
   "source": [
    "sigma = 0.5\n",
    "dt = sigma / (alpha * (1 / dx**2 + 1 / dy**2)) \n",
    "nt = 500"
   ]
  },
  {
   "cell_type": "code",
   "execution_count": 29,
   "metadata": {},
   "outputs": [
    {
     "name": "stdout",
     "output_type": "stream",
     "text": [
      "Time step 127; Temperature at center is 70.12723235676388 C\n"
     ]
    }
   ],
   "source": [
    "T = ftcs(T0, nt, dt, dx, dy, alpha)"
   ]
  },
  {
   "cell_type": "code",
   "execution_count": 30,
   "metadata": {},
   "outputs": [
    {
     "data": {
      "image/png": "[encoded data removed]",
      "text/plain": [
       "<Figure size 576x360 with 2 Axes>"
      ]
     },
     "metadata": {},
     "output_type": "display_data"
    }
   ],
   "source": [
    "pyplot.figure(figsize=(8.0,5.0))\n",
    "pyplot.xlabel('x (m)')\n",
    "pyplot.ylabel('y (m)')\n",
    "contf = pyplot.contourf(x, y, T,\n",
    "                        levels=numpy.linspace(20.0, 100.0, num = 51))\n",
    "cbar = pyplot.colorbar(contf)\n",
    "cbar.set_label('Temperature (C)')"
   ]
  },
  {
   "cell_type": "code",
   "execution_count": null,
   "metadata": {},
   "outputs": [],
   "source": []
  }
 ],
 "metadata": {
  "kernelspec": {
   "display_name": "Python 3",
   "language": "python",
   "name": "python3"
  },
  "language_info": {
   "codemirror_mode": {
    "name": "ipython",
    "version": 3
   },
   "file_extension": ".py",
   "mimetype": "text/x-python",
   "name": "python",
   "nbconvert_exporter": "python",
   "pygments_lexer": "ipython3",
   "version": "3.6.5"
  }
 },
 "nbformat": 4,
 "nbformat_minor": 2
}
