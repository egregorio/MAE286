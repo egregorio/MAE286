{
 "cells": [
  {
   "cell_type": "code",
   "execution_count": 1,
   "metadata": {},
   "outputs": [],
   "source": [
    "import numpy\n",
    "from matplotlib import pyplot\n",
    "%matplotlib inline\n",
    "import ipywidgets"
   ]
  },
  {
   "cell_type": "code",
   "execution_count": 2,
   "metadata": {},
   "outputs": [],
   "source": [
    "# Set the font family and size to use for Matplotlib figures.\n",
    "pyplot.rcParams['font.family'] = 'serif'\n",
    "pyplot.rcParams['font.size'] = 16"
   ]
  },
  {
   "cell_type": "code",
   "execution_count": 60,
   "metadata": {},
   "outputs": [],
   "source": [
    "def rho_red_light(x, rho_max):\n",
    "    rho = rho_max * numpy.ones_like(x)\n",
    "    mask = numpy.where(x<3.0)\n",
    "    rho[mask] = 0.2 * rho_max\n",
    "    return rho"
   ]
  },
  {
   "cell_type": "code",
   "execution_count": 61,
   "metadata": {},
   "outputs": [],
   "source": [
    "#set parameters\n",
    "nx = 81\n",
    "L = 4.0\n",
    "dx = L / (nx - 1)\n",
    "nt = 40\n",
    "rho_max = 10.0\n",
    "u_max = 1.0\n",
    "\n",
    "x = numpy.linspace(0.0, L, num = nx)\n",
    "\n",
    "# compute!!\n",
    "rho0 = rho_red_light(x, rho_max)"
   ]
  },
  {
   "cell_type": "code",
   "execution_count": 63,
   "metadata": {},
   "outputs": [
    {
     "data": {
      "image/png": "[encoded data removed]",
      "text/plain": [
       "<Figure size 432x288 with 1 Axes>"
      ]
     },
     "metadata": {},
     "output_type": "display_data"
    }
   ],
   "source": [
    "# Plot the initial traffic density.\n",
    "fig = pyplot.figure(figsize=(6.0, 4.0))\n",
    "pyplot.xlabel(r'$x$')\n",
    "pyplot.ylabel(r'$\\rho$')\n",
    "pyplot.grid()\n",
    "line = pyplot.plot(x, rho0,\n",
    "                   color='C0', linestyle='-', linewidth=2)[0]\n",
    "pyplot.xlim(0.0, L)\n",
    "pyplot.ylim(0.0, 11.0)\n",
    "pyplot.tight_layout()"
   ]
  },
  {
   "cell_type": "code",
   "execution_count": 64,
   "metadata": {},
   "outputs": [],
   "source": [
    "def flux(rho, u_max, rho_max):\n",
    "    F = rho * u_max * (1.0 - rho / rho_max)\n",
    "    return F"
   ]
  },
  {
   "cell_type": "code",
   "execution_count": 65,
   "metadata": {},
   "outputs": [],
   "source": [
    "from matplotlib import animation\n",
    "from IPython.display import HTML"
   ]
  },
  {
   "cell_type": "code",
   "execution_count": 66,
   "metadata": {},
   "outputs": [],
   "source": [
    "def update_plot(n, rho_hist):\n",
    "    fig.suptitle('Time step {:0>2}'.format(n))\n",
    "    line.set_ydata(rho_hist[n])"
   ]
  },
  {
   "cell_type": "code",
   "execution_count": 67,
   "metadata": {},
   "outputs": [],
   "source": [
    "# lax-friedrichs scheme\n",
    "\n",
    "def lax_friedrichs(rho0, nt, dt, dx, bc_values, *args):\n",
    "    rho_hist = [rho0.copy()]\n",
    "    rho = rho0.copy()\n",
    "    for n in range(nt):\n",
    "        #flux!\n",
    "        F = flux(rho, *args)\n",
    "        #advance in time\n",
    "        rho[1:-1] = (0.5 * (rho[:-2] + rho[2:]) - \n",
    "                     dt / (2.0 *dx) * (F[2:] - F[:-2]))\n",
    "        #set first value\n",
    "        rho[0]  = bc_values[0]\n",
    "        #set last  value\n",
    "        rho[-1] = bc_values[1]\n",
    "        #record time-step solution\n",
    "        rho_hist.append(rho.copy())\n",
    "    return rho_hist\n",
    "        "
   ]
  },
  {
   "cell_type": "code",
   "execution_count": 68,
   "metadata": {},
   "outputs": [],
   "source": [
    "# Set the time-step size based on CFL limit.\n",
    "sigma = 1.0\n",
    "dt = sigma * dx / u_max  # time-step size\n",
    "nt = 40\n",
    "\n",
    "# Compute the traffic density at all time steps.\n",
    "rho_hist = lax_friedrichs(rho0, nt, dt, dx, (rho0[0], rho0[-1]),\n",
    "                          u_max, rho_max)"
   ]
  },
  {
   "cell_type": "code",
   "execution_count": 69,
   "metadata": {},
   "outputs": [],
   "source": [
    "def plot_density(n, rho_hist):\n",
    "    pyplot.figure(figsize=(8.0,4.0))\n",
    "    pyplot.xlabel('Distance [km]')\n",
    "    pyplot.ylabel('Density [cars/km]')\n",
    "    pyplot.grid()\n",
    "    pyplot.plot(x, rho_hist[0], label='Initial')\n",
    "    pyplot.plot(x, rho_hist[n], label='Time Step {}'.format(n))\n",
    "    pyplot.ylim(rho_hist[0].min() - 1.0, rho_hist[0].max() +1.0)\n",
    "    pyplot.legend()"
   ]
  },
  {
   "cell_type": "code",
   "execution_count": 70,
   "metadata": {},
   "outputs": [
    {
     "data": {
      "application/vnd.jupyter.widget-view+json": {
       "model_id": "00507162ca3c473c83491629fbb814f5",
       "version_major": 2,
       "version_minor": 0
      },
      "text/plain": [
       "interactive(children=(IntSlider(value=0, description='time step', max=40), Output()), _dom_classes=('widget-in…"
      ]
     },
     "metadata": {},
     "output_type": "display_data"
    }
   ],
   "source": [
    "nt_slider = ipywidgets.IntSlider(value = 0, min = 0, max = nt, \n",
    "                                setp = 1, description = 'time step')\n",
    "\n",
    "display(ipywidgets.interactive(plot_density, n = nt_slider,\n",
    "                               rho_hist = ipywidgets.fixed(rho_hist)))"
   ]
  },
  {
   "cell_type": "markdown",
   "metadata": {},
   "source": [
    "The solution plotted above does travel to the left as expected however, the movement is not as smoth as it would be with the exact solution. As the wave travels it looks like a 64bit character in an old video game. This blockiness is one error observed in the solution. I think we can do better than the l-f scheme.\n",
    "\n",
    "\"Dig Deeper\"\n",
    "\n",
    "it seems a little more accurate than the other one"
   ]
  },
  {
   "cell_type": "code",
   "execution_count": 71,
   "metadata": {},
   "outputs": [],
   "source": [
    "def jacobian(rho, u_max, rho_max):\n",
    "    J = u_max * (1.0 - 2.0 * rho / rho_max)\n",
    "    return J"
   ]
  },
  {
   "cell_type": "code",
   "execution_count": 72,
   "metadata": {},
   "outputs": [],
   "source": [
    "def lax_wendroff(rho0, nt, dt, dx, bc_values, *args):\n",
    "    rho_hist = [rho0.copy()]\n",
    "    rho = rho0.copy()\n",
    "    for n in range(nt):\n",
    "        #flux!\n",
    "        F = flux(rho, *args)\n",
    "        #jacobian :/\n",
    "        J = jacobian(rho, *args)\n",
    "        #advance...in time!\n",
    "        rho[1:-1] = (rho[1:-1] - \n",
    "                     dt/ (2.0 * dx) * (F[2:] - F[:-2]) + \n",
    "                     dt**2 / (4.0 * dx**2) *\n",
    "                     ((J[1:-1] + J[2:]) * (F[2:] - F[1:-1]) - \n",
    "                      (J[:-2] + J[1:-1]) * (F[1:-1] - F[:-2])))\n",
    "        # Set the value at the first location.\n",
    "        rho[0] = bc_values[0]\n",
    "        # Set the value at the last location.\n",
    "        rho[-1] = bc_values[1]\n",
    "        # Record the time-step solution.\n",
    "        rho_hist.append(rho.copy())\n",
    "    return rho_hist"
   ]
  },
  {
   "cell_type": "code",
   "execution_count": 73,
   "metadata": {},
   "outputs": [],
   "source": [
    "sigma = 1.0\n",
    "dt = sigma*dx/u_max\n",
    "\n",
    "rho_hist = lax_wendroff(rho0, nt, dt, dx, (rho0[0], rho0[-1]),\n",
    "                        u_max, rho_max)"
   ]
  },
  {
   "cell_type": "code",
   "execution_count": 74,
   "metadata": {},
   "outputs": [
    {
     "data": {
      "application/vnd.jupyter.widget-view+json": {
       "model_id": "b027ea391831400dabfd80dfa2d64c5b",
       "version_major": 2,
       "version_minor": 0
      },
      "text/plain": [
       "interactive(children=(IntSlider(value=0, description='time step', max=40), Output()), _dom_classes=('widget-in…"
      ]
     },
     "metadata": {},
     "output_type": "display_data"
    }
   ],
   "source": [
    "nt_slider = ipywidgets.IntSlider(value = 0, min = 0, max = nt, \n",
    "                                setp = 1, description = 'time step')\n",
    "\n",
    "display(ipywidgets.interactive(plot_density, n = nt_slider,\n",
    "                               rho_hist = ipywidgets.fixed(rho_hist)))"
   ]
  },
  {
   "cell_type": "code",
   "execution_count": 75,
   "metadata": {},
   "outputs": [],
   "source": [
    "sigma = 0.5\n",
    "dt = sigma*dx/u_max\n",
    "\n",
    "rho_hist = lax_wendroff(rho0, nt, dt, dx, (rho0[0], rho0[-1]),\n",
    "                        u_max, rho_max)"
   ]
  },
  {
   "cell_type": "code",
   "execution_count": 76,
   "metadata": {},
   "outputs": [
    {
     "data": {
      "application/vnd.jupyter.widget-view+json": {
       "model_id": "3e1463acba8d4146a554c3a2c8564237",
       "version_major": 2,
       "version_minor": 0
      },
      "text/plain": [
       "interactive(children=(IntSlider(value=0, description='time step', max=40), Output()), _dom_classes=('widget-in…"
      ]
     },
     "metadata": {},
     "output_type": "display_data"
    }
   ],
   "source": [
    "nt_slider = ipywidgets.IntSlider(value = 0, min = 0, max = nt, \n",
    "                                setp = 1, description = 'time step')\n",
    "\n",
    "display(ipywidgets.interactive(plot_density, n = nt_slider,\n",
    "                               rho_hist = ipywidgets.fixed(rho_hist)))"
   ]
  },
  {
   "cell_type": "code",
   "execution_count": 77,
   "metadata": {},
   "outputs": [],
   "source": [
    "def maccormack(rho0, nt, dt, dx, bc_values, *args):\n",
    "    rho_hist = [rho0.copy()]\n",
    "    rho = rho0.copy()\n",
    "    rho_star = rho.copy()\n",
    "    for n in range(nt):\n",
    "        #flux!\n",
    "        F = flux(rho, *args)\n",
    "        #predictor\n",
    "        rho_star[1:-1] = (rho[1:-1] - \n",
    "                          dt / dx * (F[2:] - F[1:-1]))\n",
    "        #flux!\n",
    "        F = flux(rho_star, *args)\n",
    "        #corrector\n",
    "        rho[1:-1] = 0.5 * (rho[1:-1] + rho_star[1:-1] -\n",
    "                           dt / dx * (F[1:-1] - F[:-2]))\n",
    "        # Set the value at the first location.\n",
    "        rho[0] = bc_values[0]\n",
    "        # Set the value at the last location.\n",
    "        rho[-1] = bc_values[1]\n",
    "        # Record the time-step solution.\n",
    "        rho_hist.append(rho.copy())\n",
    "    return rho_hist"
   ]
  },
  {
   "cell_type": "code",
   "execution_count": 78,
   "metadata": {},
   "outputs": [],
   "source": [
    "sigma = 1.0\n",
    "dt = sigma * dx / u_max\n",
    "\n",
    "rho_hist = maccormack(rho0, nt, dt, dx, (rho0[0], rho0[-1]),\n",
    "                       u_max, rho_max)"
   ]
  },
  {
   "cell_type": "code",
   "execution_count": 79,
   "metadata": {},
   "outputs": [
    {
     "data": {
      "application/vnd.jupyter.widget-view+json": {
       "model_id": "7acf055d7edd4e4bb1b1e350ce575d68",
       "version_major": 2,
       "version_minor": 0
      },
      "text/plain": [
       "interactive(children=(IntSlider(value=0, description='time step', max=40), Output()), _dom_classes=('widget-in…"
      ]
     },
     "metadata": {},
     "output_type": "display_data"
    }
   ],
   "source": [
    "nt_slider = ipywidgets.IntSlider(value = 0, min = 0, max = nt, \n",
    "                                setp = 1, description = 'time step')\n",
    "\n",
    "display(ipywidgets.interactive(plot_density, n = nt_slider,\n",
    "                               rho_hist = ipywidgets.fixed(rho_hist)))"
   ]
  },
  {
   "cell_type": "code",
   "execution_count": 80,
   "metadata": {},
   "outputs": [],
   "source": [
    "# Set the time-step size based on CFL limit.\n",
    "sigma = 0.5\n",
    "dt = sigma * dx / u_max  # time-step size\n",
    "\n",
    "# Compute the traffic density at all time steps.\n",
    "rho_hist = maccormack(rho0, nt, dt, dx, (rho0[0], rho0[-1]),\n",
    "                      u_max, rho_max)"
   ]
  },
  {
   "cell_type": "code",
   "execution_count": 81,
   "metadata": {},
   "outputs": [
    {
     "data": {
      "application/vnd.jupyter.widget-view+json": {
       "model_id": "15052ad8c2204974aebf764ef44de0f2",
       "version_major": 2,
       "version_minor": 0
      },
      "text/plain": [
       "interactive(children=(IntSlider(value=0, description='time step', max=40), Output()), _dom_classes=('widget-in…"
      ]
     },
     "metadata": {},
     "output_type": "display_data"
    }
   ],
   "source": [
    "nt_slider = ipywidgets.IntSlider(value = 0, min = 0, max = nt, \n",
    "                                setp = 1, description = 'time step')\n",
    "\n",
    "display(ipywidgets.interactive(plot_density, n = nt_slider,\n",
    "                               rho_hist = ipywidgets.fixed(rho_hist)))"
   ]
  },
  {
   "cell_type": "code",
   "execution_count": 82,
   "metadata": {},
   "outputs": [],
   "source": [
    "def maccormack_reverse(rho0, nt, dt, dx, bc_values, *args):\n",
    "    rho_hist = [rho0.copy()]\n",
    "    rho = rho0.copy()\n",
    "    rho_star = rho.copy()\n",
    "    for n in range(nt):\n",
    "       \n",
    "        #flux!\n",
    "        F = flux(rho_star, *args)\n",
    "        #corrector\n",
    "        rho[1:-1] = 0.5 * (rho[1:-1] + rho_star[1:-1] -\n",
    "                           dt / dx * (F[1:-1] - F[:-2]))\n",
    "        \n",
    "         #flux!\n",
    "        F = flux(rho, *args)\n",
    "        #predictor\n",
    "        rho_star[1:-1] = (rho[1:-1] - \n",
    "                          dt / dx * (F[2:] - F[1:-1]))\n",
    "        \n",
    "        # Set the value at the first location.\n",
    "        rho[0] = bc_values[0]\n",
    "        # Set the value at the last location.\n",
    "        rho[-1] = bc_values[1]\n",
    "        # Record the time-step solution.\n",
    "        rho_hist.append(rho.copy())\n",
    "    return rho_hist"
   ]
  },
  {
   "cell_type": "code",
   "execution_count": 83,
   "metadata": {},
   "outputs": [],
   "source": [
    "# Set the time-step size based on CFL limit.\n",
    "sigma = 0.5\n",
    "dt = sigma * dx / u_max  # time-step size\n",
    "\n",
    "# Compute the traffic density at all time steps.\n",
    "rho_hist = maccormack_reverse(rho0, nt, dt, dx, (rho0[0], rho0[-1]),\n",
    "                      u_max, rho_max)"
   ]
  },
  {
   "cell_type": "code",
   "execution_count": 84,
   "metadata": {},
   "outputs": [
    {
     "data": {
      "application/vnd.jupyter.widget-view+json": {
       "model_id": "a2612183021b4690b04890d79581ab8a",
       "version_major": 2,
       "version_minor": 0
      },
      "text/plain": [
       "interactive(children=(IntSlider(value=0, description='time step', max=40), Output()), _dom_classes=('widget-in…"
      ]
     },
     "metadata": {},
     "output_type": "display_data"
    }
   ],
   "source": [
    "nt_slider = ipywidgets.IntSlider(value = 0, min = 0, max = nt, \n",
    "                                setp = 1, description = 'time step')\n",
    "\n",
    "display(ipywidgets.interactive(plot_density, n = nt_slider,\n",
    "                               rho_hist = ipywidgets.fixed(rho_hist)))\n"
   ]
  },
  {
   "cell_type": "markdown",
   "metadata": {},
   "source": [
    "Reversing the predictor and the corrector steps doesn't seem to have changed very much between the 0.5 sigma solutions, but the shape of the waves do vary slightly. Still, it hasn't changed enough from the original spikes to determine which is better resolved and a better choice."
   ]
  },
  {
   "cell_type": "markdown",
   "metadata": {},
   "source": [
    "changing the incoming rho to 2 (which is less than half the max density) causes the solutions to have a rigid traveling peak at the base of the wave as well as at the top of the shock wave. The wave also travels less distance as during the same number of time steps, so the velocity has decreased. This is most likely because negitive wave speeds mean slow down the shock wave velocity."
   ]
  }
 ],
 "metadata": {
  "kernelspec": {
   "display_name": "Python 3",
   "language": "python",
   "name": "python3"
  },
  "language_info": {
   "codemirror_mode": {
    "name": "ipython",
    "version": 3
   },
   "file_extension": ".py",
   "mimetype": "text/x-python",
   "name": "python",
   "nbconvert_exporter": "python",
   "pygments_lexer": "ipython3",
   "version": "3.6.5"
  }
 },
 "nbformat": 4,
 "nbformat_minor": 2
}
