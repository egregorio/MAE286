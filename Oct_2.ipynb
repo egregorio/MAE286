{
 "cells": [
  {
   "cell_type": "code",
   "execution_count": 1,
   "metadata": {},
   "outputs": [],
   "source": [
    "import numpy\n",
    "import sympy\n",
    "from matplotlib import pyplot\n",
    "%matplotlib inline"
   ]
  },
  {
   "cell_type": "code",
   "execution_count": 2,
   "metadata": {},
   "outputs": [],
   "source": [
    "# Set the font family and size to use for Matplotlib figures.\n",
    "pyplot.rcParams['font.family'] = 'serif'\n",
    "pyplot.rcParams['font.size'] = 16"
   ]
  },
  {
   "cell_type": "code",
   "execution_count": 3,
   "metadata": {},
   "outputs": [],
   "source": [
    "sympy.init_printing()"
   ]
  },
  {
   "cell_type": "code",
   "execution_count": 4,
   "metadata": {},
   "outputs": [
    {
     "data": {
      "image/png": "[encoded data removed]",
      "text/latex": [
       "$$e^{- \\frac{\\left(- 4 t + x - 6.28318530717959\\right)^{2}}{4 \\nu \\left(t + 1\\right)}} + e^{- \\frac{\\left(- 4 t + x\\right)^{2}}{4 \\nu \\left(t + 1\\right)}}$$"
      ],
      "text/plain": [
       "                               2                2 \n",
       " -(-4⋅t + x - 6.28318530717959)      -(-4⋅t + x)  \n",
       " ────────────────────────────────    ─────────────\n",
       "           4⋅ν⋅(t + 1)                4⋅ν⋅(t + 1) \n",
       "ℯ                                 + ℯ             "
      ]
     },
     "execution_count": 4,
     "metadata": {},
     "output_type": "execute_result"
    }
   ],
   "source": [
    "x, nu, t = sympy.symbols('x nu t')\n",
    "phi = (sympy.exp(-(x - 4 *t)**2 / (4 * nu * (t + 1))) +\n",
    "       sympy.exp(-(x - 4 * t -2 * numpy.pi)**2 / (4* nu * (t+1))))\n",
    "phi"
   ]
  },
  {
   "cell_type": "code",
   "execution_count": 5,
   "metadata": {},
   "outputs": [
    {
     "data": {
      "image/png": "[encoded data removed]",
      "text/latex": [
       "$$- \\frac{e^{- \\frac{\\left(- 4 t + x\\right)^{2}}{4 \\nu \\left(t + 1\\right)}}}{4 \\nu \\left(t + 1\\right)} \\left(- 8 t + 2 x\\right) - \\frac{1}{4 \\nu \\left(t + 1\\right)} \\left(- 8 t + 2 x - 12.5663706143592\\right) e^{- \\frac{\\left(- 4 t + x - 6.28318530717959\\right)^{2}}{4 \\nu \\left(t + 1\\right)}}$$"
      ],
      "text/plain": [
       "                           2                                                  \n",
       "                -(-4⋅t + x)                                      -(-4⋅t + x - \n",
       "                ─────────────                                    ─────────────\n",
       "                 4⋅ν⋅(t + 1)                                               4⋅ν\n",
       "  (-8⋅t + 2⋅x)⋅ℯ                (-8⋅t + 2⋅x - 12.5663706143592)⋅ℯ             \n",
       "- ─────────────────────────── - ──────────────────────────────────────────────\n",
       "          4⋅ν⋅(t + 1)                                      4⋅ν⋅(t + 1)        \n",
       "\n",
       "                 2 \n",
       "6.28318530717959)  \n",
       "───────────────────\n",
       "⋅(t + 1)           \n",
       "                   \n",
       "───────────────────\n",
       "                   "
      ]
     },
     "execution_count": 5,
     "metadata": {},
     "output_type": "execute_result"
    }
   ],
   "source": [
    "phiprime = phi.diff(x)\n",
    "phiprime"
   ]
  },
  {
   "cell_type": "code",
   "execution_count": 6,
   "metadata": {},
   "outputs": [],
   "source": [
    "from sympy.utilities.lambdify import lambdify\n",
    "\n",
    "u = -2 * nu * (phiprime / phi) +4\n",
    "\n",
    "#print(u)"
   ]
  },
  {
   "cell_type": "code",
   "execution_count": 7,
   "metadata": {},
   "outputs": [
    {
     "name": "stdout",
     "output_type": "stream",
     "text": [
      "the values of u at t = 1, x = 4, nu = 3, is 3.4917066420644494\n"
     ]
    }
   ],
   "source": [
    "u_lamb = lambdify((t, x, nu), u)\n",
    "print('the values of u at t = 1, x = 4, nu = 3, is {}'.format(u_lamb(1,4,3)))"
   ]
  },
  {
   "cell_type": "markdown",
   "metadata": {},
   "source": [
    "Burgers' Equation"
   ]
  },
  {
   "cell_type": "code",
   "execution_count": 12,
   "metadata": {},
   "outputs": [],
   "source": [
    "#parameters\n",
    "nx = 101 #spatial grid points\n",
    "L = 2.0 *numpy.pi #length of domain\n",
    "dx = L / (nx -1) #spatial grid size\n",
    "nu = 0.07 #viscosity\n",
    "nt = 100 #time step #\n",
    "sigma = 0.1 #CFL limit\n",
    "dt = sigma * dx**2 / nu #time step size\n",
    "\n",
    "#discretize\n",
    "x = numpy.linspace(0.0, L, num = nx)\n"
   ]
  },
  {
   "cell_type": "code",
   "execution_count": 13,
   "metadata": {},
   "outputs": [],
   "source": [
    "# Set initial conditions.\n",
    "t = 0.0\n",
    "u0 = numpy.array([u_lamb(t, xi, nu) for xi in x])\n",
    "#u0"
   ]
  },
  {
   "cell_type": "code",
   "execution_count": 14,
   "metadata": {},
   "outputs": [
    {
     "data": {
      "image/png": "[encoded data removed]",
      "text/plain": [
       "<Figure size 432x288 with 1 Axes>"
      ]
     },
     "metadata": {},
     "output_type": "display_data"
    }
   ],
   "source": [
    "# Plot the initial conditions.\n",
    "pyplot.figure(figsize=(6.0, 4.0))\n",
    "pyplot.title('Initial conditions')\n",
    "pyplot.xlabel('x')\n",
    "pyplot.ylabel('u')\n",
    "pyplot.grid()\n",
    "pyplot.plot(x, u0, color='C0', linestyle='-', linewidth=2)\n",
    "pyplot.xlim(0.0, L)\n",
    "pyplot.ylim(0.0, 10.0);"
   ]
  },
  {
   "cell_type": "markdown",
   "metadata": {},
   "source": [
    "#Integrate the Burgers' equation\n",
    "u = u0.copy()\n",
    "for n in range(nt):\n",
    "    un = u.copy()\n",
    "    #update interior points\n",
    "    u[1:-1] = (un[1:-1] - un[1:-1] *dt/dx * (un[1:-1] - un[:-2]) +\n",
    "               nu * dt / dx**2 * un[2:] - 2 * (un[1:-1] + un[:-2]))\n",
    "    #update boundary points\n",
    "    u[0] = (un[0] - un[0] * dt/dx * (un[0] - un[-1]) +\n",
    "            nu * dt/dx**2 * (un[1] - 2 * un[0] + un[-1]))\n",
    "    u[-1]= (un[-1] - un[-1] * dt/dx * (un[-1] - un[-2]) + \n",
    "            nu * dt/dx**2 * (un[0] - 2 * un[-1] + un[-2]))"
   ]
  },
  {
   "cell_type": "code",
   "execution_count": 15,
   "metadata": {},
   "outputs": [],
   "source": [
    "# Integrate the Burgers' equation in time.\n",
    "u = u0.copy()\n",
    "for n in range(nt):\n",
    "    un = u.copy()\n",
    "    # Update all interior points.\n",
    "    u[1:-1] = (un[1:-1] -\n",
    "               un[1:-1] * dt / dx * (un[1:-1] - un[:-2]) +\n",
    "               nu * dt / dx**2 * (un[2:] - 2 * un[1:-1] + un[:-2]))\n",
    "    # Update boundary points.\n",
    "    u[0] = (un[0] -\n",
    "            un[0] * dt / dx * (un[0] - un[-1]) +\n",
    "            nu * dt / dx**2 * (un[1] - 2 * un[0] + un[-1]))\n",
    "    u[-1] = (un[-1] -\n",
    "            un[-1] * dt / dx * (un[-1] - un[-2]) +\n",
    "            nu * dt / dx**2 * (un[0] - 2 * un[-1] + un[-2]))\n",
    "\n",
    "\n"
   ]
  },
  {
   "cell_type": "code",
   "execution_count": 16,
   "metadata": {},
   "outputs": [],
   "source": [
    "#compute analytical\n",
    "u_analytical = numpy.array([u_lamb(nt * dt, xi, nu) for xi in x])"
   ]
  },
  {
   "cell_type": "code",
   "execution_count": 17,
   "metadata": {},
   "outputs": [
    {
     "data": {
      "image/png": "[encoded data removed]",
      "text/plain": [
       "<Figure size 432x288 with 1 Axes>"
      ]
     },
     "metadata": {},
     "output_type": "display_data"
    }
   ],
   "source": [
    "# Plot the numerical solution along with the analytical solution.\n",
    "pyplot.figure(figsize=(6.0, 4.0))\n",
    "pyplot.xlabel('x')\n",
    "pyplot.ylabel('u')\n",
    "pyplot.grid()\n",
    "pyplot.plot(x, u, label='Numerical',\n",
    "            color='C0', linestyle='-', linewidth=2)\n",
    "pyplot.plot(x, u_analytical, label='Analytical',\n",
    "            color='C1', linestyle='--', linewidth=2)\n",
    "pyplot.legend()\n",
    "pyplot.xlim(0.0, L)\n",
    "pyplot.ylim(0.0, 10.0);"
   ]
  },
  {
   "cell_type": "code",
   "execution_count": 18,
   "metadata": {},
   "outputs": [],
   "source": [
    "from matplotlib import animation\n",
    "from IPython.display import HTML"
   ]
  },
  {
   "cell_type": "code",
   "execution_count": 20,
   "metadata": {},
   "outputs": [],
   "source": [
    "def burgers(u0, dx, dt, nu, nt=20):\n",
    "    u_hist = [u0.copy()]\n",
    "    u = u0.copy()\n",
    "    for n in range(nt):\n",
    "        un = u.copy()\n",
    "        #update interior points\n",
    "        u[1:-1] = (un[1:-1] - un[1:-1] * dt/dx *(un[1:-1] - un[:-2]) + \n",
    "                   nu * dt/dx**2 * (un[2:] - 2 * un[1:-1] +un[:-2]))\n",
    "        #update boundary points\n",
    "        u[0] = (un[0] - un[0] * dt/dx * (un[0] - un[-1]) +\n",
    "                nu * dt/dx**2 * (un[1] - 2 * un[0] +un[-1]))\n",
    "        u[-1]= (un[-1] - un[-1] * dt/dx * (un[-1] - u[-2]) +\n",
    "                nu * dt/dx**2 * (un[0] - 2 * (un[0] - 2 * un[-1] + un[-2])))"
   ]
  },
  {
   "cell_type": "code",
   "execution_count": 22,
   "metadata": {},
   "outputs": [],
   "source": [
    "#compute history numerical\n",
    "u_hist = burgers(u0, dx, dt, nu, nt = nt)"
   ]
  },
  {
   "cell_type": "code",
   "execution_count": 23,
   "metadata": {},
   "outputs": [],
   "source": [
    "#history analytical\n",
    "u_analytical = [numpy.array([u_lamb(n * dt, xi, nu) for xi in x])\n",
    "               for n in range(nt)]"
   ]
  },
  {
   "cell_type": "code",
   "execution_count": 24,
   "metadata": {},
   "outputs": [
    {
     "data": {
      "image/png": "[encoded data removed]",
      "text/plain": [
       "<Figure size 432x288 with 1 Axes>"
      ]
     },
     "metadata": {},
     "output_type": "display_data"
    }
   ],
   "source": [
    "fig = pyplot.figure(figsize=(6.0, 4.0))\n",
    "pyplot.xlabel('x')\n",
    "pyplot.ylabel('u')\n",
    "pyplot.grid()\n",
    "u0_analytical = numpy.array([u_lamb(0.0, xi, nu) for xi in x])\n",
    "line1 = pyplot.plot(x, u0, label='Numerical',\n",
    "                    color='C0', linestyle='-', linewidth=2)[0]\n",
    "line2 = pyplot.plot(x, u0_analytical, label='Analytical',\n",
    "                    color='C1', linestyle='--', linewidth=2)[0]\n",
    "pyplot.legend()\n",
    "pyplot.xlim(0.0, L)\n",
    "pyplot.ylim(0.0, 10.0)\n",
    "fig.tight_layout()"
   ]
  },
  {
   "cell_type": "code",
   "execution_count": 26,
   "metadata": {},
   "outputs": [],
   "source": [
    "def update_plot(n, u_hist, u_analytical):\n",
    "    fig.suptitle('Time step {:0>2}'.format(n))\n",
    "    line1.set_ydata(u_hist[n])\n",
    "    line2.set_ydata(u_analytical[n])"
   ]
  },
  {
   "cell_type": "code",
   "execution_count": 27,
   "metadata": {},
   "outputs": [],
   "source": [
    "# Create an animation.\n",
    "anim = animation.FuncAnimation(fig, update_plot,\n",
    "                               frames=nt, fargs=(u_hist, u_analytical),\n",
    "                               interval=100)"
   ]
  },
  {
   "cell_type": "code",
   "execution_count": 28,
   "metadata": {},
   "outputs": [
    {
     "ename": "TypeError",
     "evalue": "'NoneType' object is not subscriptable",
     "output_type": "error",
     "traceback": [
      "\u001b[0;31m---------------------------------------------------------------------------\u001b[0m",
      "\u001b[0;31mTypeError\u001b[0m                                 Traceback (most recent call last)",
      "\u001b[0;32m<ipython-input-28-86223e847755>\u001b[0m in \u001b[0;36m<module>\u001b[0;34m()\u001b[0m\n\u001b[1;32m      1\u001b[0m \u001b[0;31m# Display the video.\u001b[0m\u001b[0;34m\u001b[0m\u001b[0;34m\u001b[0m\u001b[0m\n\u001b[0;32m----> 2\u001b[0;31m \u001b[0mHTML\u001b[0m\u001b[0;34m(\u001b[0m\u001b[0manim\u001b[0m\u001b[0;34m.\u001b[0m\u001b[0mto_html5_video\u001b[0m\u001b[0;34m(\u001b[0m\u001b[0;34m)\u001b[0m\u001b[0;34m)\u001b[0m\u001b[0;34m\u001b[0m\u001b[0m\n\u001b[0m",
      "\u001b[0;32m/opt/conda/lib/python3.6/site-packages/matplotlib/animation.py\u001b[0m in \u001b[0;36mto_html5_video\u001b[0;34m(self, embed_limit)\u001b[0m\n\u001b[1;32m   1351\u001b[0m                                 \u001b[0mbitrate\u001b[0m\u001b[0;34m=\u001b[0m\u001b[0mrcParams\u001b[0m\u001b[0;34m[\u001b[0m\u001b[0;34m'animation.bitrate'\u001b[0m\u001b[0;34m]\u001b[0m\u001b[0;34m,\u001b[0m\u001b[0;34m\u001b[0m\u001b[0m\n\u001b[1;32m   1352\u001b[0m                                 fps=1000. / self._interval)\n\u001b[0;32m-> 1353\u001b[0;31m                 \u001b[0mself\u001b[0m\u001b[0;34m.\u001b[0m\u001b[0msave\u001b[0m\u001b[0;34m(\u001b[0m\u001b[0mf\u001b[0m\u001b[0;34m.\u001b[0m\u001b[0mname\u001b[0m\u001b[0;34m,\u001b[0m \u001b[0mwriter\u001b[0m\u001b[0;34m=\u001b[0m\u001b[0mwriter\u001b[0m\u001b[0;34m)\u001b[0m\u001b[0;34m\u001b[0m\u001b[0m\n\u001b[0m\u001b[1;32m   1354\u001b[0m \u001b[0;34m\u001b[0m\u001b[0m\n\u001b[1;32m   1355\u001b[0m             \u001b[0;31m# Now open and base64 encode\u001b[0m\u001b[0;34m\u001b[0m\u001b[0;34m\u001b[0m\u001b[0m\n",
      "\u001b[0;32m/opt/conda/lib/python3.6/site-packages/matplotlib/animation.py\u001b[0m in \u001b[0;36msave\u001b[0;34m(self, filename, writer, fps, dpi, codec, bitrate, extra_args, metadata, extra_anim, savefig_kwargs)\u001b[0m\n\u001b[1;32m   1193\u001b[0m                 \u001b[0;32mfor\u001b[0m \u001b[0manim\u001b[0m \u001b[0;32min\u001b[0m \u001b[0mall_anim\u001b[0m\u001b[0;34m:\u001b[0m\u001b[0;34m\u001b[0m\u001b[0m\n\u001b[1;32m   1194\u001b[0m                     \u001b[0;31m# Clear the initial frame\u001b[0m\u001b[0;34m\u001b[0m\u001b[0;34m\u001b[0m\u001b[0m\n\u001b[0;32m-> 1195\u001b[0;31m                     \u001b[0manim\u001b[0m\u001b[0;34m.\u001b[0m\u001b[0m_init_draw\u001b[0m\u001b[0;34m(\u001b[0m\u001b[0;34m)\u001b[0m\u001b[0;34m\u001b[0m\u001b[0m\n\u001b[0m\u001b[1;32m   1196\u001b[0m                 \u001b[0;32mfor\u001b[0m \u001b[0mdata\u001b[0m \u001b[0;32min\u001b[0m \u001b[0mzip\u001b[0m\u001b[0;34m(\u001b[0m\u001b[0;34m*\u001b[0m\u001b[0;34m[\u001b[0m\u001b[0ma\u001b[0m\u001b[0;34m.\u001b[0m\u001b[0mnew_saved_frame_seq\u001b[0m\u001b[0;34m(\u001b[0m\u001b[0;34m)\u001b[0m \u001b[0;32mfor\u001b[0m \u001b[0ma\u001b[0m \u001b[0;32min\u001b[0m \u001b[0mall_anim\u001b[0m\u001b[0;34m]\u001b[0m\u001b[0;34m)\u001b[0m\u001b[0;34m:\u001b[0m\u001b[0;34m\u001b[0m\u001b[0m\n\u001b[1;32m   1197\u001b[0m                     \u001b[0;32mfor\u001b[0m \u001b[0manim\u001b[0m\u001b[0;34m,\u001b[0m \u001b[0md\u001b[0m \u001b[0;32min\u001b[0m \u001b[0mzip\u001b[0m\u001b[0;34m(\u001b[0m\u001b[0mall_anim\u001b[0m\u001b[0;34m,\u001b[0m \u001b[0mdata\u001b[0m\u001b[0;34m)\u001b[0m\u001b[0;34m:\u001b[0m\u001b[0;34m\u001b[0m\u001b[0m\n",
      "\u001b[0;32m/opt/conda/lib/python3.6/site-packages/matplotlib/animation.py\u001b[0m in \u001b[0;36m_init_draw\u001b[0;34m(self)\u001b[0m\n\u001b[1;32m   1748\u001b[0m         \u001b[0;31m# artists.\u001b[0m\u001b[0;34m\u001b[0m\u001b[0;34m\u001b[0m\u001b[0m\n\u001b[1;32m   1749\u001b[0m         \u001b[0;32mif\u001b[0m \u001b[0mself\u001b[0m\u001b[0;34m.\u001b[0m\u001b[0m_init_func\u001b[0m \u001b[0;32mis\u001b[0m \u001b[0;32mNone\u001b[0m\u001b[0;34m:\u001b[0m\u001b[0;34m\u001b[0m\u001b[0m\n\u001b[0;32m-> 1750\u001b[0;31m             \u001b[0mself\u001b[0m\u001b[0;34m.\u001b[0m\u001b[0m_draw_frame\u001b[0m\u001b[0;34m(\u001b[0m\u001b[0mnext\u001b[0m\u001b[0;34m(\u001b[0m\u001b[0mself\u001b[0m\u001b[0;34m.\u001b[0m\u001b[0mnew_frame_seq\u001b[0m\u001b[0;34m(\u001b[0m\u001b[0;34m)\u001b[0m\u001b[0;34m)\u001b[0m\u001b[0;34m)\u001b[0m\u001b[0;34m\u001b[0m\u001b[0m\n\u001b[0m\u001b[1;32m   1751\u001b[0m \u001b[0;34m\u001b[0m\u001b[0m\n\u001b[1;32m   1752\u001b[0m         \u001b[0;32melse\u001b[0m\u001b[0;34m:\u001b[0m\u001b[0;34m\u001b[0m\u001b[0m\n",
      "\u001b[0;32m/opt/conda/lib/python3.6/site-packages/matplotlib/animation.py\u001b[0m in \u001b[0;36m_draw_frame\u001b[0;34m(self, framedata)\u001b[0m\n\u001b[1;32m   1770\u001b[0m         \u001b[0;31m# Call the func with framedata and args. If blitting is desired,\u001b[0m\u001b[0;34m\u001b[0m\u001b[0;34m\u001b[0m\u001b[0m\n\u001b[1;32m   1771\u001b[0m         \u001b[0;31m# func needs to return a sequence of any artists that were modified.\u001b[0m\u001b[0;34m\u001b[0m\u001b[0;34m\u001b[0m\u001b[0m\n\u001b[0;32m-> 1772\u001b[0;31m         \u001b[0mself\u001b[0m\u001b[0;34m.\u001b[0m\u001b[0m_drawn_artists\u001b[0m \u001b[0;34m=\u001b[0m \u001b[0mself\u001b[0m\u001b[0;34m.\u001b[0m\u001b[0m_func\u001b[0m\u001b[0;34m(\u001b[0m\u001b[0mframedata\u001b[0m\u001b[0;34m,\u001b[0m \u001b[0;34m*\u001b[0m\u001b[0mself\u001b[0m\u001b[0;34m.\u001b[0m\u001b[0m_args\u001b[0m\u001b[0;34m)\u001b[0m\u001b[0;34m\u001b[0m\u001b[0m\n\u001b[0m\u001b[1;32m   1773\u001b[0m         \u001b[0;32mif\u001b[0m \u001b[0mself\u001b[0m\u001b[0;34m.\u001b[0m\u001b[0m_blit\u001b[0m\u001b[0;34m:\u001b[0m\u001b[0;34m\u001b[0m\u001b[0m\n\u001b[1;32m   1774\u001b[0m             \u001b[0;32mif\u001b[0m \u001b[0mself\u001b[0m\u001b[0;34m.\u001b[0m\u001b[0m_drawn_artists\u001b[0m \u001b[0;32mis\u001b[0m \u001b[0;32mNone\u001b[0m\u001b[0;34m:\u001b[0m\u001b[0;34m\u001b[0m\u001b[0m\n",
      "\u001b[0;32m<ipython-input-26-7213cc71293b>\u001b[0m in \u001b[0;36mupdate_plot\u001b[0;34m(n, u_hist, u_analytical)\u001b[0m\n\u001b[1;32m      1\u001b[0m \u001b[0;32mdef\u001b[0m \u001b[0mupdate_plot\u001b[0m\u001b[0;34m(\u001b[0m\u001b[0mn\u001b[0m\u001b[0;34m,\u001b[0m \u001b[0mu_hist\u001b[0m\u001b[0;34m,\u001b[0m \u001b[0mu_analytical\u001b[0m\u001b[0;34m)\u001b[0m\u001b[0;34m:\u001b[0m\u001b[0;34m\u001b[0m\u001b[0m\n\u001b[1;32m      2\u001b[0m     \u001b[0mfig\u001b[0m\u001b[0;34m.\u001b[0m\u001b[0msuptitle\u001b[0m\u001b[0;34m(\u001b[0m\u001b[0;34m'Time step {:0>2}'\u001b[0m\u001b[0;34m.\u001b[0m\u001b[0mformat\u001b[0m\u001b[0;34m(\u001b[0m\u001b[0mn\u001b[0m\u001b[0;34m)\u001b[0m\u001b[0;34m)\u001b[0m\u001b[0;34m\u001b[0m\u001b[0m\n\u001b[0;32m----> 3\u001b[0;31m     \u001b[0mline1\u001b[0m\u001b[0;34m.\u001b[0m\u001b[0mset_ydata\u001b[0m\u001b[0;34m(\u001b[0m\u001b[0mu_hist\u001b[0m\u001b[0;34m[\u001b[0m\u001b[0mn\u001b[0m\u001b[0;34m]\u001b[0m\u001b[0;34m)\u001b[0m\u001b[0;34m\u001b[0m\u001b[0m\n\u001b[0m\u001b[1;32m      4\u001b[0m     \u001b[0mline2\u001b[0m\u001b[0;34m.\u001b[0m\u001b[0mset_ydata\u001b[0m\u001b[0;34m(\u001b[0m\u001b[0mu_analytical\u001b[0m\u001b[0;34m[\u001b[0m\u001b[0mn\u001b[0m\u001b[0;34m]\u001b[0m\u001b[0;34m)\u001b[0m\u001b[0;34m\u001b[0m\u001b[0m\n",
      "\u001b[0;31mTypeError\u001b[0m: 'NoneType' object is not subscriptable"
     ]
    }
   ],
   "source": [
    "# Display the video.\n",
    "HTML(anim.to_html5_video())"
   ]
  },
  {
   "cell_type": "code",
   "execution_count": null,
   "metadata": {},
   "outputs": [],
   "source": []
  }
 ],
 "metadata": {
  "kernelspec": {
   "display_name": "Python 3",
   "language": "python",
   "name": "python3"
  },
  "language_info": {
   "codemirror_mode": {
    "name": "ipython",
    "version": 3
   },
   "file_extension": ".py",
   "mimetype": "text/x-python",
   "name": "python",
   "nbconvert_exporter": "python",
   "pygments_lexer": "ipython3",
   "version": "3.6.2"
  }
 },
 "nbformat": 4,
 "nbformat_minor": 2
}
