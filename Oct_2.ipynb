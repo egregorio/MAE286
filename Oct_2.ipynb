{
 "cells": [
  {
   "cell_type": "code",
   "execution_count": 1,
   "metadata": {},
   "outputs": [],
   "source": [
    "import numpy\n",
    "import sympy\n",
    "from matplotlib import pyplot\n",
    "%matplotlib inline"
   ]
  },
  {
   "cell_type": "code",
   "execution_count": 2,
   "metadata": {},
   "outputs": [],
   "source": [
    "# Set the font family and size to use for Matplotlib figures.\n",
    "pyplot.rcParams['font.family'] = 'serif'\n",
    "pyplot.rcParams['font.size'] = 16"
   ]
  },
  {
   "cell_type": "code",
   "execution_count": 3,
   "metadata": {},
   "outputs": [],
   "source": [
    "sympy.init_printing()"
   ]
  },
  {
   "cell_type": "code",
   "execution_count": 4,
   "metadata": {},
   "outputs": [
    {
     "data": {
      "image/png": "[encoded data removed]",
      "text/latex": [
       "$$e^{- \\frac{\\left(- 4 t + x - 6.28318530717959\\right)^{2}}{4 \\nu \\left(t + 1\\right)}} + e^{- \\frac{\\left(- 4 t + x\\right)^{2}}{4 \\nu \\left(t + 1\\right)}}$$"
      ],
      "text/plain": [
       "                               2                2 \n",
       " -(-4⋅t + x - 6.28318530717959)      -(-4⋅t + x)  \n",
       " ────────────────────────────────    ─────────────\n",
       "           4⋅ν⋅(t + 1)                4⋅ν⋅(t + 1) \n",
       "ℯ                                 + ℯ             "
      ]
     },
     "execution_count": 4,
     "metadata": {},
     "output_type": "execute_result"
    }
   ],
   "source": [
    "x, nu, t = sympy.symbols('x nu t')\n",
    "phi = (sympy.exp(-(x - 4 *t)**2 / (4 * nu * (t + 1))) +\n",
    "       sympy.exp(-(x - 4 * t -2 * numpy.pi)**2 / (4* nu * (t+1))))\n",
    "phi"
   ]
  },
  {
   "cell_type": "code",
   "execution_count": 5,
   "metadata": {},
   "outputs": [
    {
     "data": {
      "image/png": "[encoded data removed]",
      "text/latex": [
       "$$- \\frac{e^{- \\frac{\\left(- 4 t + x\\right)^{2}}{4 \\nu \\left(t + 1\\right)}}}{4 \\nu \\left(t + 1\\right)} \\left(- 8 t + 2 x\\right) - \\frac{1}{4 \\nu \\left(t + 1\\right)} \\left(- 8 t + 2 x - 12.5663706143592\\right) e^{- \\frac{\\left(- 4 t + x - 6.28318530717959\\right)^{2}}{4 \\nu \\left(t + 1\\right)}}$$"
      ],
      "text/plain": [
       "                           2                                                  \n",
       "                -(-4⋅t + x)                                      -(-4⋅t + x - \n",
       "                ─────────────                                    ─────────────\n",
       "                 4⋅ν⋅(t + 1)                                               4⋅ν\n",
       "  (-8⋅t + 2⋅x)⋅ℯ                (-8⋅t + 2⋅x - 12.5663706143592)⋅ℯ             \n",
       "- ─────────────────────────── - ──────────────────────────────────────────────\n",
       "          4⋅ν⋅(t + 1)                                      4⋅ν⋅(t + 1)        \n",
       "\n",
       "                 2 \n",
       "6.28318530717959)  \n",
       "───────────────────\n",
       "⋅(t + 1)           \n",
       "                   \n",
       "───────────────────\n",
       "                   "
      ]
     },
     "execution_count": 5,
     "metadata": {},
     "output_type": "execute_result"
    }
   ],
   "source": [
    "phiprime = phi.diff(x)\n",
    "phiprime"
   ]
  },
  {
   "cell_type": "code",
   "execution_count": 6,
   "metadata": {},
   "outputs": [],
   "source": [
    "from sympy.utilities.lambdify import lambdify\n",
    "\n",
    "u = -2 * nu * (phiprime / phi) +4\n",
    "\n",
    "#print(u)"
   ]
  },
  {
   "cell_type": "code",
   "execution_count": 7,
   "metadata": {},
   "outputs": [
    {
     "name": "stdout",
     "output_type": "stream",
     "text": [
      "the values of u at t = 1, x = 4, nu = 3, is 3.4917066420644494\n"
     ]
    }
   ],
   "source": [
    "u_lamb = lambdify((t, x, nu), u)\n",
    "print('the values of u at t = 1, x = 4, nu = 3, is {}'.format(u_lamb(1,4,3)))"
   ]
  },
  {
   "cell_type": "markdown",
   "metadata": {},
   "source": [
    "Burgers' Equation"
   ]
  },
  {
   "cell_type": "code",
   "execution_count": 8,
   "metadata": {},
   "outputs": [],
   "source": [
    "#parameters\n",
    "nx = 101 #spatial grid points\n",
    "L = 2.0 *numpy.pi #length of domain\n",
    "dx = L / (nx -1) #spatial grid size\n",
    "nu = 0.07 #viscosity\n",
    "nt = 100 #time step #\n",
    "sigma = 0.1 #CFL limit\n",
    "dt = sigma * dx**2 / nu #time step size\n",
    "\n",
    "#discretize\n",
    "x = numpy.linspace(0.0, L, num = nx)\n"
   ]
  },
  {
   "cell_type": "code",
   "execution_count": 9,
   "metadata": {},
   "outputs": [],
   "source": [
    "# Set initial conditions.\n",
    "t = 0.0\n",
    "u0 = numpy.array([u_lamb(t, xi, nu) for xi in x])\n",
    "#u0"
   ]
  },
  {
   "cell_type": "code",
   "execution_count": 10,
   "metadata": {},
   "outputs": [
    {
     "data": {
      "image/png": "[encoded data removed]",
      "text/plain": [
       "<Figure size 432x288 with 1 Axes>"
      ]
     },
     "metadata": {},
     "output_type": "display_data"
    }
   ],
   "source": [
    "# Plot the initial conditions.\n",
    "pyplot.figure(figsize=(6.0, 4.0))\n",
    "pyplot.title('Initial conditions')\n",
    "pyplot.xlabel('x')\n",
    "pyplot.ylabel('u')\n",
    "pyplot.grid()\n",
    "pyplot.plot(x, u0, color='C0', linestyle='-', linewidth=2)\n",
    "pyplot.xlim(0.0, L)\n",
    "pyplot.ylim(0.0, 10.0);"
   ]
  },
  {
   "cell_type": "markdown",
   "metadata": {},
   "source": [
    "#Integrate the Burgers' equation\n",
    "u = u0.copy()\n",
    "for n in range(nt):\n",
    "    un = u.copy()\n",
    "    #update interior points\n",
    "    u[1:-1] = (un[1:-1] - un[1:-1] *dt/dx * (un[1:-1] - un[:-2]) +\n",
    "               nu * dt / dx**2 * un[2:] - 2 * (un[1:-1] + un[:-2]))\n",
    "    #update boundary points\n",
    "    u[0] = (un[0] - un[0] * dt/dx * (un[0] - un[-1]) +\n",
    "            nu * dt/dx**2 * (un[1] - 2 * un[0] + un[-1]))\n",
    "    u[-1]= (un[-1] - un[-1] * dt/dx * (un[-1] - un[-2]) + \n",
    "            nu * dt/dx**2 * (un[0] - 2 * un[-1] + un[-2]))"
   ]
  },
  {
   "cell_type": "code",
   "execution_count": 11,
   "metadata": {},
   "outputs": [],
   "source": [
    "# Integrate the Burgers' equation in time.\n",
    "u = u0.copy()\n",
    "for n in range(nt):\n",
    "    un = u.copy()\n",
    "    # Update all interior points.\n",
    "    u[1:-1] = (un[1:-1] -\n",
    "               un[1:-1] * dt / dx * (un[1:-1] - un[:-2]) +\n",
    "               nu * dt / dx**2 * (un[2:] - 2 * un[1:-1] + un[:-2]))\n",
    "    # Update boundary points.\n",
    "    u[0] = (un[0] -\n",
    "            un[0] * dt / dx * (un[0] - un[-1]) +\n",
    "            nu * dt / dx**2 * (un[1] - 2 * un[0] + un[-1]))\n",
    "    u[-1] = (un[-1] -\n",
    "            un[-1] * dt / dx * (un[-1] - un[-2]) +\n",
    "            nu * dt / dx**2 * (un[0] - 2 * un[-1] + un[-2]))\n",
    "\n",
    "\n"
   ]
  },
  {
   "cell_type": "code",
   "execution_count": 12,
   "metadata": {},
   "outputs": [],
   "source": [
    "#compute analytical\n",
    "u_analytical = numpy.array([u_lamb(nt * dt, xi, nu) for xi in x])"
   ]
  },
  {
   "cell_type": "code",
   "execution_count": 13,
   "metadata": {},
   "outputs": [
    {
     "data": {
      "image/png": "[encoded data removed]",
      "text/plain": [
       "<Figure size 432x288 with 1 Axes>"
      ]
     },
     "metadata": {},
     "output_type": "display_data"
    }
   ],
   "source": [
    "# Plot the numerical solution along with the analytical solution.\n",
    "pyplot.figure(figsize=(6.0, 4.0))\n",
    "pyplot.xlabel('x')\n",
    "pyplot.ylabel('u')\n",
    "pyplot.grid()\n",
    "pyplot.plot(x, u, label='Numerical',\n",
    "            color='C0', linestyle='-', linewidth=2)\n",
    "pyplot.plot(x, u_analytical, label='Analytical',\n",
    "            color='C1', linestyle='--', linewidth=2)\n",
    "pyplot.legend()\n",
    "pyplot.xlim(0.0, L)\n",
    "pyplot.ylim(0.0, 10.0);"
   ]
  },
  {
   "cell_type": "code",
   "execution_count": 14,
   "metadata": {},
   "outputs": [],
   "source": [
    "from matplotlib import animation\n",
    "from IPython.display import HTML"
   ]
  },
  {
   "cell_type": "code",
   "execution_count": 15,
   "metadata": {},
   "outputs": [],
   "source": [
    "def burgers(u0, dx, dt, nu, nt=20):\n",
    "    u_hist = [u0.copy()]\n",
    "    u = u0.copy()\n",
    "    for n in range(nt):\n",
    "        un = u.copy()\n",
    "        #update interior points\n",
    "        u[1:-1] = (un[1:-1] - un[1:-1] * dt/dx *(un[1:-1] - un[:-2]) + \n",
    "                   nu * dt/dx**2 * (un[2:] - 2 * un[1:-1] +un[:-2]))\n",
    "        #update boundary points\n",
    "        u[0] = (un[0] - un[0] * dt/dx * (un[0] - un[-1]) +\n",
    "                nu * dt/dx**2 * (un[1] - 2 * un[0] +un[-1]))\n",
    "        u[-1]= (un[-1] - un[-1] * dt/dx * (un[-1] - u[-2]) +\n",
    "                nu * dt/dx**2 * (un[0] - 2 * (un[0] - 2 * un[-1] + un[-2])))"
   ]
  },
  {
   "cell_type": "code",
   "execution_count": 16,
   "metadata": {},
   "outputs": [],
   "source": [
    "#compute history numerical\n",
    "u_hist = burgers(u0, dx, dt, nu, nt = nt)"
   ]
  },
  {
   "cell_type": "code",
   "execution_count": 17,
   "metadata": {},
   "outputs": [],
   "source": [
    "#history analytical\n",
    "u_analytical = [numpy.array([u_lamb(n * dt, xi, nu) for xi in x])\n",
    "               for n in range(nt)]"
   ]
  },
  {
   "cell_type": "code",
   "execution_count": 18,
   "metadata": {},
   "outputs": [
    {
     "data": {
      "image/png": "[encoded data removed]",
      "text/plain": [
       "<Figure size 432x288 with 1 Axes>"
      ]
     },
     "metadata": {},
     "output_type": "display_data"
    }
   ],
   "source": [
    "fig = pyplot.figure(figsize=(6.0, 4.0))\n",
    "pyplot.xlabel('x')\n",
    "pyplot.ylabel('u')\n",
    "pyplot.grid()\n",
    "u0_analytical = numpy.array([u_lamb(0.0, xi, nu) for xi in x])\n",
    "line1 = pyplot.plot(x, u0, label='Numerical',\n",
    "                    color='C0', linestyle='-', linewidth=2)[0]\n",
    "line2 = pyplot.plot(x, u0_analytical, label='Analytical',\n",
    "                    color='C1', linestyle='--', linewidth=2)[0]\n",
    "pyplot.legend()\n",
    "pyplot.xlim(0.0, L)\n",
    "pyplot.ylim(0.0, 10.0)\n",
    "fig.tight_layout()"
   ]
  },
  {
   "cell_type": "code",
   "execution_count": 19,
   "metadata": {},
   "outputs": [],
   "source": [
    "def update_plot(n, u_hist, u_analytical):\n",
    "    fig.suptitle('Time step {:0>2}'.format(n))\n",
    "    line1.set_ydata(u_hist[n])\n",
    "    line2.set_ydata(u_analytical[n])"
   ]
  },
  {
   "cell_type": "code",
   "execution_count": 20,
   "metadata": {},
   "outputs": [],
   "source": [
    "# Create an animation.\n",
    "anim = animation.FuncAnimation(fig, update_plot,\n",
    "                               frames=nt, fargs=(u_hist, u_analytical),\n",
    "                               interval=100)"
   ]
  },
  {
   "cell_type": "code",
   "execution_count": 21,
   "metadata": {},
   "outputs": [
    {
     "ename": "RuntimeError",
     "evalue": "Requested MovieWriter (ffmpeg) not available",
     "output_type": "error",
     "traceback": [
      "\u001b[0;31m---------------------------------------------------------------------------\u001b[0m",
      "\u001b[0;31mKeyError\u001b[0m                                  Traceback (most recent call last)",
      "\u001b[0;32m/anaconda3/lib/python3.6/site-packages/matplotlib/animation.py\u001b[0m in \u001b[0;36m__getitem__\u001b[0;34m(self, name)\u001b[0m\n\u001b[1;32m    169\u001b[0m         \u001b[0;32mtry\u001b[0m\u001b[0;34m:\u001b[0m\u001b[0;34m\u001b[0m\u001b[0m\n\u001b[0;32m--> 170\u001b[0;31m             \u001b[0;32mreturn\u001b[0m \u001b[0mself\u001b[0m\u001b[0;34m.\u001b[0m\u001b[0mavail\u001b[0m\u001b[0;34m[\u001b[0m\u001b[0mname\u001b[0m\u001b[0;34m]\u001b[0m\u001b[0;34m\u001b[0m\u001b[0m\n\u001b[0m\u001b[1;32m    171\u001b[0m         \u001b[0;32mexcept\u001b[0m \u001b[0mKeyError\u001b[0m\u001b[0;34m:\u001b[0m\u001b[0;34m\u001b[0m\u001b[0m\n",
      "\u001b[0;31mKeyError\u001b[0m: 'ffmpeg'",
      "\nDuring handling of the above exception, another exception occurred:\n",
      "\u001b[0;31mRuntimeError\u001b[0m                              Traceback (most recent call last)",
      "\u001b[0;32m<ipython-input-21-86223e847755>\u001b[0m in \u001b[0;36m<module>\u001b[0;34m()\u001b[0m\n\u001b[1;32m      1\u001b[0m \u001b[0;31m# Display the video.\u001b[0m\u001b[0;34m\u001b[0m\u001b[0;34m\u001b[0m\u001b[0m\n\u001b[0;32m----> 2\u001b[0;31m \u001b[0mHTML\u001b[0m\u001b[0;34m(\u001b[0m\u001b[0manim\u001b[0m\u001b[0;34m.\u001b[0m\u001b[0mto_html5_video\u001b[0m\u001b[0;34m(\u001b[0m\u001b[0;34m)\u001b[0m\u001b[0;34m)\u001b[0m\u001b[0;34m\u001b[0m\u001b[0m\n\u001b[0m",
      "\u001b[0;32m/anaconda3/lib/python3.6/site-packages/matplotlib/animation.py\u001b[0m in \u001b[0;36mto_html5_video\u001b[0;34m(self, embed_limit)\u001b[0m\n\u001b[1;32m   1347\u001b[0m                 \u001b[0;31m# We create a writer manually so that we can get the\u001b[0m\u001b[0;34m\u001b[0m\u001b[0;34m\u001b[0m\u001b[0m\n\u001b[1;32m   1348\u001b[0m                 \u001b[0;31m# appropriate size for the tag\u001b[0m\u001b[0;34m\u001b[0m\u001b[0;34m\u001b[0m\u001b[0m\n\u001b[0;32m-> 1349\u001b[0;31m                 \u001b[0mWriter\u001b[0m \u001b[0;34m=\u001b[0m \u001b[0mwriters\u001b[0m\u001b[0;34m[\u001b[0m\u001b[0mrcParams\u001b[0m\u001b[0;34m[\u001b[0m\u001b[0;34m'animation.writer'\u001b[0m\u001b[0;34m]\u001b[0m\u001b[0;34m]\u001b[0m\u001b[0;34m\u001b[0m\u001b[0m\n\u001b[0m\u001b[1;32m   1350\u001b[0m                 writer = Writer(codec='h264',\n\u001b[1;32m   1351\u001b[0m                                 \u001b[0mbitrate\u001b[0m\u001b[0;34m=\u001b[0m\u001b[0mrcParams\u001b[0m\u001b[0;34m[\u001b[0m\u001b[0;34m'animation.bitrate'\u001b[0m\u001b[0;34m]\u001b[0m\u001b[0;34m,\u001b[0m\u001b[0;34m\u001b[0m\u001b[0m\n",
      "\u001b[0;32m/anaconda3/lib/python3.6/site-packages/matplotlib/animation.py\u001b[0m in \u001b[0;36m__getitem__\u001b[0;34m(self, name)\u001b[0m\n\u001b[1;32m    171\u001b[0m         \u001b[0;32mexcept\u001b[0m \u001b[0mKeyError\u001b[0m\u001b[0;34m:\u001b[0m\u001b[0;34m\u001b[0m\u001b[0m\n\u001b[1;32m    172\u001b[0m             raise RuntimeError(\n\u001b[0;32m--> 173\u001b[0;31m                 'Requested MovieWriter ({}) not available'.format(name))\n\u001b[0m\u001b[1;32m    174\u001b[0m \u001b[0;34m\u001b[0m\u001b[0m\n\u001b[1;32m    175\u001b[0m \u001b[0;34m\u001b[0m\u001b[0m\n",
      "\u001b[0;31mRuntimeError\u001b[0m: Requested MovieWriter (ffmpeg) not available"
     ]
    }
   ],
   "source": [
    "# Display the video.\n",
    "HTML(anim.to_html5_video())"
   ]
  },
  {
   "cell_type": "code",
   "execution_count": null,
   "metadata": {},
   "outputs": [],
   "source": [
    "%%timeit\n",
    "#set initial conditions\n",
    "u = numpy.array([u_lamb(t, x0, nu) for x0 in x])\n",
    "#integrate in time\n",
    "for n in range (nt):\n",
    "    un = u.copy()\n",
    "    #update all interior points and the left boundary point\n",
    "    for i in range(nx - 1):\n",
    "        u[i] = (un[i] - un[i] * dt/dx * (un[i] - u[i - 1]) +\n",
    "                nu * dt/dx**2 * (un[i+1] - 2 * un[i] + un[i-1]))\n",
    "    #update right boundary\n",
    "    u[-1] = (un[-1] - un[-1] * dt/dx * (un[-1] - un[-2]) +\n",
    "             nu * dt/dx**2 * (un[0] - 2 * un[-1] + un[-2]))"
   ]
  },
  {
   "cell_type": "code",
   "execution_count": null,
   "metadata": {},
   "outputs": [],
   "source": [
    "%%timeit\n",
    "#inital conditions\n",
    "u = numpy.array([u_lamb(t, xi, nu) for xi in x])\n",
    "#integrate!\n",
    "for n in range(nt):\n",
    "    un = u.copy()\n",
    "    #update interior points\n",
    "    u[1:-1] = (un[1:-1] - un[1:-1]* dt/dx * (un[1:-1] - un[:-2]) + \n",
    "               nu * dt/dx**2 * (un[0] - 2 * un[-1] + un[-2]))\n",
    "    #update boundary\n",
    "    u[0] = (un[0] - un[0] * dt/dx * (un[0] - un[-1]) +\n",
    "            nu * dt/dx**2 * (un[0] - 2 * un[0] + un[-1]))\n",
    "    u[-1]= (un[-1] - un[-1] * dt/dx * (un[-1] - un[-2]) + \n",
    "            nu * dt/dx**2 * (un[0] - 2 * un[-1] +un[-2]))"
   ]
  }
 ],
 "metadata": {
  "kernelspec": {
   "display_name": "Python 3",
   "language": "python",
   "name": "python3"
  },
  "language_info": {
   "codemirror_mode": {
    "name": "ipython",
    "version": 3
   },
   "file_extension": ".py",
   "mimetype": "text/x-python",
   "name": "python",
   "nbconvert_exporter": "python",
   "pygments_lexer": "ipython3",
   "version": "3.6.5"
  }
 },
 "nbformat": 4,
 "nbformat_minor": 2
}
